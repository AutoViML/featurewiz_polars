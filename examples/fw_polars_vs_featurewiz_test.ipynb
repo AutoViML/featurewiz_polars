{
 "cells": [
  {
   "cell_type": "code",
   "execution_count": 1,
   "id": "d964f7b6-36b4-4c5f-9f89-4efffd2f0332",
   "metadata": {},
   "outputs": [
    {
     "name": "stdout",
     "output_type": "stream",
     "text": [
      "Imported lazytransform v1.18. \n",
      "\n",
      "Imported featurewiz 0.6.1. Use the following syntax:\n",
      "    >>> wiz = FeatureWiz(feature_engg = '', nrows=None, transform_target=True,\n",
      "        \t\tcategory_encoders=\"auto\", auto_encoders='VAE', ae_options={},\n",
      "        \t\tadd_missing=False, imbalanced=False, verbose=0)\n",
      "    >>> X_train_selected, y_train = wiz.fit_transform(X_train, y_train)\n",
      "    >>> X_test_selected = wiz.transform(X_test)\n",
      "    >>> selected_features = wiz.features\n",
      "    \n"
     ]
    }
   ],
   "source": [
    "from featurewiz import FeatureWiz"
   ]
  },
  {
   "cell_type": "code",
   "execution_count": 2,
   "id": "f474f7cd-d8ca-4368-8518-e019062afe91",
   "metadata": {},
   "outputs": [
    {
     "name": "stdout",
     "output_type": "stream",
     "text": [
      "featurewiz is given 0.9 as correlation limit...\n",
      "    Skipping feature engineering since no feature_engg input...\n",
      "    final list of category encoders given: ['onehot', 'label']\n",
      "    final list of scalers given: []\n"
     ]
    }
   ],
   "source": [
    "wiz = FeatureWiz(feature_engg = '', nrows=None, transform_target=True,\n",
    "        \t\tcategory_encoders=\"auto\", auto_encoders='', ae_options={},\n",
    "        \t\tadd_missing=False, imbalanced=False, verbose=0)"
   ]
  },
  {
   "cell_type": "code",
   "execution_count": 3,
   "id": "63e5f4d4",
   "metadata": {},
   "outputs": [
    {
     "name": "stdout",
     "output_type": "stream",
     "text": [
      "Imported featurewiz_polars 0.1.1. Use the following syntax:\n",
      " >> from featurewiz_polars import Featurewiz_MRMR, Featurewiz_MRMR_Model\n",
      " >> wiz = Featurewiz_MRMR(model_type='Classification')\n",
      " >> X_transformed, y_transformed = wiz.fit_transform(X_train, y_train)\n",
      " >> X_test_transformed = wiz.transform(X_test)\n",
      " >> print(wiz.selected_features)\n",
      "    \n"
     ]
    }
   ],
   "source": [
    "from sklearn.base import BaseEstimator, TransformerMixin\n",
    "from sklearn.utils.validation import check_is_fitted\n",
    "from featurewiz_polars import Sulov_MRMR, Polars_DateTimeTransformer, Polars_CategoricalEncoder\n",
    "from featurewiz_polars import Polars_MissingTransformer, YTransformer, Polars_ColumnEncoder\n",
    "import polars as pl\n",
    "import numpy as np\n",
    "import pandas as pd\n",
    "from sklearn.datasets import make_classification\n",
    "from sklearn.model_selection import train_test_split\n",
    "import time\n",
    "from sklearn.pipeline import Pipeline\n",
    "import pdb\n",
    "from sklearn.ensemble import RandomForestClassifier, RandomForestRegressor"
   ]
  },
  {
   "cell_type": "code",
   "execution_count": 4,
   "id": "19b65ea9",
   "metadata": {},
   "outputs": [],
   "source": [
    "datapath = \"../../../documents/ram/data_sets/\"\n",
    "filename = \"ames_train.csv\""
   ]
  },
  {
   "cell_type": "code",
   "execution_count": 5,
   "id": "682085c8",
   "metadata": {},
   "outputs": [
    {
     "name": "stdout",
     "output_type": "stream",
     "text": [
      "Loaded data... (1460, 81)\n",
      "Data dimensions (rows x cols) = 116800 dims\n"
     ]
    },
    {
     "data": {
      "text/plain": [
       "Int64"
      ]
     },
     "execution_count": 5,
     "metadata": {},
     "output_type": "execute_result"
    }
   ],
   "source": [
    "df = pl.read_csv(datapath+filename, null_values=['NULL','NA'], try_parse_dates=True, infer_schema_length=10000, ignore_errors=True, )#.sample(1000)\n",
    "print('Loaded data...', df.shape)\n",
    "target = 'SalePrice' # Replace with your target column name\n",
    "model_type = 'Regression'\n",
    "if target not in df.columns:\n",
    "    print(f\"Error: Target column '{target}' not found in the CSV file.\")\n",
    "    exit()\n",
    "predictors = [x for x in df.columns if x!=target]\n",
    "X = df[predictors]\n",
    "y = df[target]\n",
    "print('Data dimensions (rows x cols) = %d dims' %(int(X.shape[0]*X.shape[1])))\n",
    "X_train, X_test, y_train, y_test = train_test_split(X, y, test_size=0.2, random_state=42)\n",
    "y_train.dtype"
   ]
  },
  {
   "cell_type": "code",
   "execution_count": 6,
   "id": "a0815591",
   "metadata": {},
   "outputs": [],
   "source": [
    "# You need to transform y in case of classification problems ##\n",
    "if model_type.lower() == 'classification':\n",
    "    X_pipeline = Pipeline([\n",
    "        ('datetime_transformer', Polars_DateTimeTransformer(datetime_features=[])), # Specify your datetime columns\n",
    "        ('cat_transformer', Polars_CategoricalEncoder(encoding_type='ordinal', categorical_features='auto')),\n",
    "        ('nan_transformer', Polars_MissingTransformer(strategy=\"median\")),\n",
    "        ('ytransformer', YTransformer()),\n",
    "        ])\n",
    "else:\n",
    "    X_pipeline = Pipeline([\n",
    "        ('datetime_transformer', Polars_DateTimeTransformer(datetime_features=[])), # Specify your datetime columns\n",
    "        ('cat_transformer', Polars_CategoricalEncoder(encoding_type='ordinal', categorical_features='auto')),\n",
    "        ('nan_transformer', Polars_MissingTransformer(strategy=\"median\")),\n",
    "        ])\n",
    "Y_pipeline = Pipeline([\n",
    "    ('featurewiz', Sulov_MRMR(model_type=model_type, corr_threshold=0.7, verbose=0)),\n",
    "    ])\n",
    "##    Usage missing value fillers\n",
    "feature_selection = Pipeline([\n",
    "        ('X_pipeline', X_pipeline),\n",
    "        ('Y_pipeline', Y_pipeline)\n",
    "    ])\n",
    "if model_type == 'Regression':\n",
    "    model = RandomForestRegressor(n_estimators=100, random_state=99)\n",
    "else:\n",
    "    model = RandomForestClassifier(n_estimators=100, random_state=99)"
   ]
  },
  {
   "cell_type": "code",
   "execution_count": 7,
   "id": "60434ad7",
   "metadata": {},
   "outputs": [],
   "source": [
    "class Classx( TransformerMixin): # Class name \n",
    "    def __init__(self, model=model, \n",
    "            model_type=model_type, encoding_type='target', \n",
    "            imputation_strategy='mean', corr_threshold = 0.7,\n",
    "            verbose = 0):\n",
    "        self.model = model\n",
    "        self.model_type = model_type.lower()\n",
    "        self.encoding_type = encoding_type.lower()\n",
    "        self.imputation_strategy = imputation_strategy.lower()\n",
    "        self.corr_threshold = corr_threshold\n",
    "        self.feature_selection = feature_selection\n",
    "        self.y_encoder = Polars_ColumnEncoder()\n",
    "\n",
    "    def fit(self, X, y):\n",
    "        self.feature_selection.fit(X,y)\n",
    "        self.y_encoder.fit(y)\n",
    "        return self\n",
    "\n",
    "    def transform(self, X, y=None):\n",
    "        if y is None:\n",
    "            return self.feature_selection.transform(X)\n",
    "        else:\n",
    "            Xt = self.feature_selection.transform(X)\n",
    "            if model_type.lower() == 'classification':\n",
    "                yt = self.y_encoder.transform(y)\n",
    "            else:\n",
    "                yt = y\n",
    "            return Xt, yt\n",
    "\n",
    "    def fit_transform(self, X, y):\n",
    "        self.fit(X, y)\n",
    "        Xt = self.transform(X)\n",
    "        if model_type.lower() == 'classification':\n",
    "            yt = self.y_encoder.transform(y)\n",
    "        else:\n",
    "            yt = y\n",
    "        return Xt, yt\n",
    "testp = Classx()"
   ]
  },
  {
   "cell_type": "code",
   "execution_count": 8,
   "id": "9b112770-3dbe-438c-b66b-0f50276e22b4",
   "metadata": {},
   "outputs": [
    {
     "name": "stdout",
     "output_type": "stream",
     "text": [
      "['Id', 'MSSubClass', 'MSZoning', 'LotFrontage', 'LotArea', 'Street', 'Alley', 'LotShape', 'LandContour', 'Utilities', 'LotConfig', 'LandSlope', 'Neighborhood', 'Condition1', 'Condition2', 'BldgType', 'HouseStyle', 'OverallQual', 'OverallCond', 'YearBuilt', 'YearRemodAdd', 'RoofStyle', 'RoofMatl', 'Exterior1st', 'Exterior2nd', 'MasVnrType', 'MasVnrArea', 'ExterQual', 'ExterCond', 'Foundation', 'BsmtQual', 'BsmtCond', 'BsmtExposure', 'BsmtFinType1', 'BsmtFinSF1', 'BsmtFinType2', 'BsmtFinSF2', 'BsmtUnfSF', 'TotalBsmtSF', 'Heating', 'HeatingQC', 'CentralAir', 'Electrical', '1stFlrSF', '2ndFlrSF', 'LowQualFinSF', 'GrLivArea', 'BsmtFullBath', 'BsmtHalfBath', 'FullBath', 'HalfBath', 'BedroomAbvGr', 'KitchenAbvGr', 'KitchenQual', 'TotRmsAbvGrd', 'Functional', 'Fireplaces', 'FireplaceQu', 'GarageType', 'GarageYrBlt', 'GarageFinish', 'GarageCars', 'GarageArea', 'GarageQual', 'GarageCond', 'PavedDrive', 'WoodDeckSF', 'OpenPorchSF', 'EnclosedPorch', '3SsnPorch', 'ScreenPorch', 'PoolArea', 'PoolQC', 'Fence', 'MiscFeature', 'MiscVal', 'MoSold', 'YrSold', 'SaleType', 'SaleCondition', 'SalePrice']\n"
     ]
    },
    {
     "data": {
      "text/html": [
       "<div><style>\n",
       ".dataframe > thead > tr,\n",
       ".dataframe > tbody > tr {\n",
       "  text-align: right;\n",
       "  white-space: pre-wrap;\n",
       "}\n",
       "</style>\n",
       "<small>shape: (1, 81)</small><table border=\"1\" class=\"dataframe\"><thead><tr><th>Id</th><th>MSSubClass</th><th>MSZoning</th><th>LotFrontage</th><th>LotArea</th><th>Street</th><th>Alley</th><th>LotShape</th><th>LandContour</th><th>Utilities</th><th>LotConfig</th><th>LandSlope</th><th>Neighborhood</th><th>Condition1</th><th>Condition2</th><th>BldgType</th><th>HouseStyle</th><th>OverallQual</th><th>OverallCond</th><th>YearBuilt</th><th>YearRemodAdd</th><th>RoofStyle</th><th>RoofMatl</th><th>Exterior1st</th><th>Exterior2nd</th><th>MasVnrType</th><th>MasVnrArea</th><th>ExterQual</th><th>ExterCond</th><th>Foundation</th><th>BsmtQual</th><th>BsmtCond</th><th>BsmtExposure</th><th>BsmtFinType1</th><th>BsmtFinSF1</th><th>BsmtFinType2</th><th>BsmtFinSF2</th><th>&hellip;</th><th>2ndFlrSF</th><th>LowQualFinSF</th><th>GrLivArea</th><th>BsmtFullBath</th><th>BsmtHalfBath</th><th>FullBath</th><th>HalfBath</th><th>BedroomAbvGr</th><th>KitchenAbvGr</th><th>KitchenQual</th><th>TotRmsAbvGrd</th><th>Functional</th><th>Fireplaces</th><th>FireplaceQu</th><th>GarageType</th><th>GarageYrBlt</th><th>GarageFinish</th><th>GarageCars</th><th>GarageArea</th><th>GarageQual</th><th>GarageCond</th><th>PavedDrive</th><th>WoodDeckSF</th><th>OpenPorchSF</th><th>EnclosedPorch</th><th>3SsnPorch</th><th>ScreenPorch</th><th>PoolArea</th><th>PoolQC</th><th>Fence</th><th>MiscFeature</th><th>MiscVal</th><th>MoSold</th><th>YrSold</th><th>SaleType</th><th>SaleCondition</th><th>SalePrice</th></tr><tr><td>i64</td><td>i64</td><td>str</td><td>i64</td><td>i64</td><td>str</td><td>str</td><td>str</td><td>str</td><td>str</td><td>str</td><td>str</td><td>str</td><td>str</td><td>str</td><td>str</td><td>str</td><td>i64</td><td>i64</td><td>i64</td><td>i64</td><td>str</td><td>str</td><td>str</td><td>str</td><td>str</td><td>i64</td><td>str</td><td>str</td><td>str</td><td>str</td><td>str</td><td>str</td><td>str</td><td>i64</td><td>str</td><td>i64</td><td>&hellip;</td><td>i64</td><td>i64</td><td>i64</td><td>i64</td><td>i64</td><td>i64</td><td>i64</td><td>i64</td><td>i64</td><td>str</td><td>i64</td><td>str</td><td>i64</td><td>str</td><td>str</td><td>i64</td><td>str</td><td>i64</td><td>i64</td><td>str</td><td>str</td><td>str</td><td>i64</td><td>i64</td><td>i64</td><td>i64</td><td>i64</td><td>i64</td><td>str</td><td>str</td><td>str</td><td>i64</td><td>i64</td><td>i64</td><td>str</td><td>str</td><td>i64</td></tr></thead><tbody><tr><td>1</td><td>60</td><td>&quot;RL&quot;</td><td>65</td><td>8450</td><td>&quot;Pave&quot;</td><td>null</td><td>&quot;Reg&quot;</td><td>&quot;Lvl&quot;</td><td>&quot;AllPub&quot;</td><td>&quot;Inside&quot;</td><td>&quot;Gtl&quot;</td><td>&quot;CollgCr&quot;</td><td>&quot;Norm&quot;</td><td>&quot;Norm&quot;</td><td>&quot;1Fam&quot;</td><td>&quot;2Story&quot;</td><td>7</td><td>5</td><td>2003</td><td>2003</td><td>&quot;Gable&quot;</td><td>&quot;CompShg&quot;</td><td>&quot;VinylSd&quot;</td><td>&quot;VinylSd&quot;</td><td>&quot;BrkFace&quot;</td><td>196</td><td>&quot;Gd&quot;</td><td>&quot;TA&quot;</td><td>&quot;PConc&quot;</td><td>&quot;Gd&quot;</td><td>&quot;TA&quot;</td><td>&quot;No&quot;</td><td>&quot;GLQ&quot;</td><td>706</td><td>&quot;Unf&quot;</td><td>0</td><td>&hellip;</td><td>854</td><td>0</td><td>1710</td><td>1</td><td>0</td><td>2</td><td>1</td><td>3</td><td>1</td><td>&quot;Gd&quot;</td><td>8</td><td>&quot;Typ&quot;</td><td>0</td><td>null</td><td>&quot;Attchd&quot;</td><td>2003</td><td>&quot;RFn&quot;</td><td>2</td><td>548</td><td>&quot;TA&quot;</td><td>&quot;TA&quot;</td><td>&quot;Y&quot;</td><td>0</td><td>61</td><td>0</td><td>0</td><td>0</td><td>0</td><td>null</td><td>null</td><td>null</td><td>0</td><td>2</td><td>2008</td><td>&quot;WD&quot;</td><td>&quot;Normal&quot;</td><td>208500</td></tr></tbody></table></div>"
      ],
      "text/plain": [
       "shape: (1, 81)\n",
       "┌─────┬────────────┬──────────┬─────────────┬───┬────────┬──────────┬───────────────┬───────────┐\n",
       "│ Id  ┆ MSSubClass ┆ MSZoning ┆ LotFrontage ┆ … ┆ YrSold ┆ SaleType ┆ SaleCondition ┆ SalePrice │\n",
       "│ --- ┆ ---        ┆ ---      ┆ ---         ┆   ┆ ---    ┆ ---      ┆ ---           ┆ ---       │\n",
       "│ i64 ┆ i64        ┆ str      ┆ i64         ┆   ┆ i64    ┆ str      ┆ str           ┆ i64       │\n",
       "╞═════╪════════════╪══════════╪═════════════╪═══╪════════╪══════════╪═══════════════╪═══════════╡\n",
       "│ 1   ┆ 60         ┆ RL       ┆ 65          ┆ … ┆ 2008   ┆ WD       ┆ Normal        ┆ 208500    │\n",
       "└─────┴────────────┴──────────┴─────────────┴───┴────────┴──────────┴───────────────┴───────────┘"
      ]
     },
     "execution_count": 8,
     "metadata": {},
     "output_type": "execute_result"
    }
   ],
   "source": [
    "print(df.columns)\n",
    "df.head(1)"
   ]
  },
  {
   "cell_type": "code",
   "execution_count": 9,
   "id": "0f9e1ab9-983b-41eb-8195-352e08ffa753",
   "metadata": {},
   "outputs": [
    {
     "name": "stdout",
     "output_type": "stream",
     "text": [
      "[Int64, Int64, String, Int64, Int64, String, String, String, String, String, String, String, String, String, String, String, String, Int64, Int64, Int64, Int64, String, String, String, String, String, Int64, String, String, String, String, String, String, String, Int64, String, Int64, Int64, Int64, String, String, String, String, Int64, Int64, Int64, Int64, Int64, Int64, Int64, Int64, Int64, Int64, String, Int64, String, Int64, String, String, Int64, String, Int64, Int64, String, String, String, Int64, Int64, Int64, Int64, Int64, Int64, String, String, String, Int64, Int64, Int64, String, String, Int64]\n"
     ]
    }
   ],
   "source": [
    "print(df.dtypes)"
   ]
  },
  {
   "cell_type": "markdown",
   "id": "3bb980d2-9f94-4f55-9674-1c60f4a38e0b",
   "metadata": {},
   "source": [
    "# First with featurewiz regular edition"
   ]
  },
  {
   "cell_type": "code",
   "execution_count": 10,
   "id": "db6de9d7-05ea-41c3-bc01-8d9a50c61fa6",
   "metadata": {},
   "outputs": [
    {
     "name": "stdout",
     "output_type": "stream",
     "text": [
      "Loaded input data. Shape = (1168, 80)\n",
      "    Warning: Too many features will be generated since categorical vars > 10. This may take time...\n",
      "#### Starting featurewiz transform for train data ####\n",
      "    Regression models don't need targets to be transformed to numeric...\n",
      "    Single_Label Regression problem \n",
      "Shape of dataset: (1168, 80). Now we classify variables into different types...\n",
      "Time taken to define data pipeline = 2 second(s)\n",
      "No model input given...\n",
      "Lazy Transformer Pipeline created...\n",
      "    Time taken to fit dataset = 2 second(s)\n",
      "    Time taken to transform dataset = 2 second(s)\n",
      "    Shape of transformed dataset: (1168, 303)\n",
      "    Single_Label Regression problem \n",
      "Starting SULOV with 287 features...\n",
      "    there are no null values in dataset...\n",
      "    there are no null values in target column...\n",
      "Completed SULOV. 274 features selected\n",
      "Performing recursive XGBoost feature selection from 274 features...\n",
      "    time taken to run entire featurewiz = 6 second(s)\n",
      "Recursive XGBoost selected 94 features...\n",
      "#### Starting featurewiz transform for test data ####\n",
      "Loaded input data. Shape = (292, 80)\n",
      "#### Starting lazytransform for test data ####\n",
      "    Time taken to transform dataset = 1 second(s)\n",
      "    Shape of transformed dataset: (292, 303)\n",
      "Returning dataframe with 94 features \n",
      "featurewiz selected features:  ['OverallQual', 'GrLivArea', 'GarageCars', 'TotalBsmtSF', '1stFlrSF', 'BsmtFinSF1', '2ndFlrSF', 'LandContour_Bnk', 'TotRmsAbvGrd', 'BsmtQual_Ex', 'LotArea', 'GarageArea', 'YearRemodAdd', 'YearBuilt', 'MSZoning_RM', 'OverallCond', 'KitchenAbvGr', 'BsmtExposure_Gd', 'CentralAir_Y', 'MasVnrArea', 'Id', 'BsmtUnfSF', 'OpenPorchSF', 'KitchenQual_Ex', 'LotFrontage', 'GarageType_Attchd', 'GarageYrBlt', 'Fireplaces', 'SaleType_New', 'BsmtQual_Gd', 'LandContour_Lvl', 'SaleCondition_Family', 'WoodDeckSF', 'RoofMatl_CompShg', 'PoolArea', 'MoSold', 'Neighborhood_Crawfor', 'Neighborhood_NAmes', 'KitchenQual_Gd', 'LotConfig_FR3', 'Neighborhood_StoneBr', 'ScreenPorch', 'SaleType_WD', 'EnclosedPorch', 'Exterior1st_HdBoard', 'KitchenQual_TA', 'LotShape_Reg', 'Exterior1st_BrkFace', 'BedroomAbvGr', 'MSZoning_Call', 'SaleCondition_Abnorml', 'LandSlope_Sev', 'Functional_Typ', 'YrSold', 'FullBath', 'Foundation_BrkTil', 'BsmtFinType1_GLQ', 'Condition2_PosN', 'MSSubClass', 'ExterQual_TA', 'PoolQC_Ex', 'HalfBath', 'PavedDrive_P', 'BsmtQual_TA', 'HeatingQC_Fa', 'BsmtExposure_No', 'Exterior1st_Stucco', 'BldgType_2fmCon', 'HouseStyle_25Unf', 'BsmtFullBath', 'Foundation_PConc', 'Functional_Mod', 'ExterQual_Fa', 'FireplaceQu_Ex', 'Fence_GdWo', 'LandSlope_Gtl', 'Exterior2nd_VinylSd', 'GarageFinish_Unf', 'GarageQual_TA', 'FireplaceQu_Gd', 'BsmtFinSF2', 'FireplaceQu_TA', 'PavedDrive_N', 'RoofStyle_Gable', 'Fence_GdPrv', 'RoofStyle_Flat', 'Exterior2nd_MetalSd', '3SsnPorch', 'Exterior1st_CemntBd', 'BsmtHalfBath', 'MiscVal', 'LowQualFinSF', 'SaleCondition_Alloca', 'SaleCondition_AdjLand']\n"
     ]
    }
   ],
   "source": [
    "X_train_selected, y_train = wiz.fit_transform(X_train.to_pandas(), y_train.to_pandas())\n",
    "X_test_selected = wiz.transform(X_test.to_pandas())\n",
    "selected_features = wiz.features\n",
    "print('featurewiz selected features: ', selected_features)"
   ]
  },
  {
   "cell_type": "markdown",
   "id": "b371ea04-b913-4f5d-8bc5-0250571c2e0a",
   "metadata": {},
   "source": [
    "# Then with featurewiz polars edition"
   ]
  },
  {
   "cell_type": "code",
   "execution_count": 11,
   "id": "403970ae",
   "metadata": {},
   "outputs": [
    {
     "name": "stdout",
     "output_type": "stream",
     "text": [
      "Model type: Regression\n",
      "SULOV selected Features (77): ['1stFlrSF', '2ndFlrSF', '3SsnPorch', 'Alley', 'BedroomAbvGr', 'BldgType', 'BsmtCond', 'BsmtExposure', 'BsmtFinSF1', 'BsmtFinSF2', 'BsmtFinType1', 'BsmtFinType2', 'BsmtFullBath', 'BsmtHalfBath', 'BsmtQual', 'BsmtUnfSF', 'CentralAir', 'Condition1', 'Condition2', 'Electrical', 'EnclosedPorch', 'ExterCond', 'ExterQual', 'Exterior1st', 'Exterior2nd', 'Fence', 'FireplaceQu', 'Fireplaces', 'FullBath', 'Functional', 'GarageArea', 'GarageCars', 'GarageCond', 'GarageFinish', 'GarageQual', 'GarageType', 'GarageYrBlt', 'GrLivArea', 'HalfBath', 'Heating', 'HeatingQC', 'HouseStyle', 'Id', 'KitchenAbvGr', 'KitchenQual', 'LandContour', 'LandSlope', 'LotArea', 'LotConfig', 'LotFrontage', 'LotShape', 'LowQualFinSF', 'MSSubClass', 'MSZoning', 'MasVnrArea', 'MasVnrType', 'MiscFeature', 'MiscVal', 'MoSold', 'Neighborhood', 'OpenPorchSF', 'OverallCond', 'OverallQual', 'PavedDrive', 'PoolQC', 'RoofMatl', 'RoofStyle', 'SaleCondition', 'SaleType', 'ScreenPorch', 'Street', 'TotalBsmtSF', 'Utilities', 'WoodDeckSF', 'YearBuilt', 'YearRemodAdd', 'YrSold']\n",
      "\n",
      "Recursive XGBoost selected Features (22): ['2ndFlrSF', 'Alley', 'BldgType', 'BsmtQual', 'CentralAir', 'ExterQual', 'Fireplaces', 'FullBath', 'GarageCars', 'GarageType', 'GrLivArea', 'KitchenAbvGr', 'KitchenQual', 'LotArea', 'MSSubClass', 'MSZoning', 'MasVnrArea', 'MasVnrType', 'Neighborhood', 'OverallQual', 'TotalBsmtSF', 'YearRemodAdd']\n",
      "<class 'polars.dataframe.frame.DataFrame'>\n",
      "<class 'pandas.core.series.Series'>\n"
     ]
    }
   ],
   "source": [
    "testp.fit(X, y)\n",
    "Xt, yt = testp.transform(X_train,y_train)\n",
    "Xtt = testp.transform(X_test)\n",
    "print(type(Xt))\n",
    "print(type(yt))"
   ]
  },
  {
   "cell_type": "markdown",
   "id": "05ae28cf-2b5e-4c0e-adad-aadabf8126b9",
   "metadata": {},
   "source": [
    "# Model trained with the two different feature sets"
   ]
  },
  {
   "cell_type": "code",
   "execution_count": 12,
   "id": "5f9b3cd9-1fb2-4df9-a87d-cd9cdeb0d26b",
   "metadata": {},
   "outputs": [],
   "source": [
    "import copy\n",
    "modelx = copy.deepcopy(model)\n",
    "modelx.fit(X_train_selected, y_train)\n",
    "y_predx = modelx.predict(X_test_selected)"
   ]
  },
  {
   "cell_type": "code",
   "execution_count": 13,
   "id": "256dca02",
   "metadata": {},
   "outputs": [],
   "source": [
    "modely = copy.deepcopy(model)\n",
    "modely.fit(Xt, yt)\n",
    "y_predy = modely.predict(Xtt)"
   ]
  },
  {
   "cell_type": "markdown",
   "id": "d0c53fb1-83cf-4b7f-a98c-b64496491c48",
   "metadata": {},
   "source": [
    "# performance of featurewiz feature set"
   ]
  },
  {
   "cell_type": "code",
   "execution_count": 14,
   "id": "3ef24f12",
   "metadata": {},
   "outputs": [
    {
     "name": "stdout",
     "output_type": "stream",
     "text": [
      "    RMSE = 29515.600\n",
      "    Norm RMSE = 34%\n",
      "    MAE = 17635.649\n",
      "    WAPE = 10%, Bias = 0.9%\n",
      "    MAPE = 1065%\n",
      "    R-Squared = 89%\n"
     ]
    }
   ],
   "source": [
    "from featurewiz import print_classification_metrics, print_regression_metrics\n",
    "if model_type.lower() == 'classification':\n",
    "    print_classification_metrics(y_test.to_pandas().ravel(), y_predx, verbose=1)\n",
    "else:\n",
    "    print_regression_metrics(y_test.to_pandas().ravel(), y_predx, verbose=1)"
   ]
  },
  {
   "cell_type": "markdown",
   "id": "b9ada74b-050c-41c4-9ae2-315721b3f14a",
   "metadata": {},
   "source": [
    "# performance of featurewiz polars featureset"
   ]
  },
  {
   "cell_type": "code",
   "execution_count": 15,
   "id": "651a5de4-eaf2-447f-b48a-6b3da79a5d43",
   "metadata": {},
   "outputs": [
    {
     "name": "stdout",
     "output_type": "stream",
     "text": [
      "    RMSE = 28853.567\n",
      "    Norm RMSE = 33%\n",
      "    MAE = 17852.243\n",
      "    WAPE = 10%, Bias = 0.8%\n",
      "    MAPE = 1100%\n",
      "    R-Squared = 89%\n"
     ]
    }
   ],
   "source": [
    "if model_type.lower() == 'classification':\n",
    "    print_classification_metrics(y_test.to_pandas().ravel(), y_predy, verbose=1)\n",
    "else:\n",
    "    print_regression_metrics(y_test.to_pandas().ravel(), y_predy, verbose=1)"
   ]
  },
  {
   "cell_type": "markdown",
   "id": "b08267e6-c5b3-4ee1-b404-0f11e3026e59",
   "metadata": {},
   "source": [
    "# in this specific use case, Polars featurewiz is outshining regular featurewiz"
   ]
  },
  {
   "cell_type": "code",
   "execution_count": null,
   "id": "da2bbf5d-5215-46a7-991b-4134c910ba0e",
   "metadata": {},
   "outputs": [],
   "source": []
  }
 ],
 "metadata": {
  "kernelspec": {
   "display_name": "Python 3",
   "language": "python",
   "name": "python3"
  },
  "language_info": {
   "codemirror_mode": {
    "name": "ipython",
    "version": 3
   },
   "file_extension": ".py",
   "mimetype": "text/x-python",
   "name": "python",
   "nbconvert_exporter": "python",
   "pygments_lexer": "ipython3",
   "version": "3.12.3"
  }
 },
 "nbformat": 4,
 "nbformat_minor": 5
}
