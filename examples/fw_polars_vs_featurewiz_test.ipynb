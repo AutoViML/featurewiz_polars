{
 "cells": [
  {
   "cell_type": "markdown",
   "id": "d964f7b6-36b4-4c5f-9f89-4efffd2f0332",
   "metadata": {},
   "source": [
    "[![Open In Colab](https://colab.research.google.com/assets/colab-badge.svg)](https://colab.research.google.com/github/AutoViML/featurewiz_polars/blob/main/examples/fw_polars_vs_featurewiz_test.ipynb)"
   ]
  },
  {
   "cell_type": "code",
   "execution_count": 1,
   "id": "7d5db32d",
   "metadata": {},
   "outputs": [],
   "source": [
    "#!pip install featurewiz --ignore-installed"
   ]
  },
  {
   "cell_type": "code",
   "execution_count": 2,
   "id": "1dd4d4db",
   "metadata": {},
   "outputs": [
    {
     "name": "stdout",
     "output_type": "stream",
     "text": [
      "Imported lazytransform v1.18. \n",
      "\n",
      "Imported featurewiz 0.6.1. Use the following syntax:\n",
      "    >>> wiz = FeatureWiz(feature_engg = '', nrows=None, transform_target=True,\n",
      "        \t\tcategory_encoders=\"auto\", auto_encoders='VAE', ae_options={},\n",
      "        \t\tadd_missing=False, imbalanced=False, verbose=0)\n",
      "    >>> X_train_selected, y_train = wiz.fit_transform(X_train, y_train)\n",
      "    >>> X_test_selected = wiz.transform(X_test)\n",
      "    >>> selected_features = wiz.features\n",
      "    \n"
     ]
    }
   ],
   "source": [
    "from featurewiz import FeatureWiz"
   ]
  },
  {
   "cell_type": "code",
   "execution_count": 3,
   "id": "f474f7cd-d8ca-4368-8518-e019062afe91",
   "metadata": {},
   "outputs": [
    {
     "name": "stdout",
     "output_type": "stream",
     "text": [
      "featurewiz is given 0.7 as correlation limit...\n",
      "    Skipping feature engineering since no feature_engg input...\n",
      "    final list of category encoders given: ['onehot', 'label']\n",
      "    final list of scalers given: []\n"
     ]
    }
   ],
   "source": [
    "wiz = FeatureWiz(feature_engg = '', nrows=None, transform_target=True, corr_limit=0.70,\n",
    "        \t\tcategory_encoders=\"auto\", auto_encoders='', ae_options={},\n",
    "        \t\tadd_missing=False, imbalanced=False, verbose=0)"
   ]
  },
  {
   "cell_type": "code",
   "execution_count": 4,
   "id": "f4c71827",
   "metadata": {},
   "outputs": [],
   "source": [
    "import polars as pl\n",
    "import numpy as np\n",
    "import pandas as pd\n",
    "from sklearn.datasets import make_classification\n",
    "from sklearn.model_selection import train_test_split\n",
    "import time\n",
    "from sklearn.ensemble import RandomForestClassifier, RandomForestRegressor"
   ]
  },
  {
   "cell_type": "code",
   "execution_count": 5,
   "id": "63e5f4d4",
   "metadata": {},
   "outputs": [],
   "source": [
    "#!pip install git+https://github.com/AutoViML/featurewiz_polars.git"
   ]
  },
  {
   "cell_type": "code",
   "execution_count": 6,
   "id": "ce83120d",
   "metadata": {},
   "outputs": [
    {
     "name": "stdout",
     "output_type": "stream",
     "text": [
      "Imported featurewiz_polars 0.2.2. Use the following syntax:\n",
      " >> from featurewiz_polars import Featurewiz_MRMR, Featurewiz_MRMR_Model\n",
      "    \n"
     ]
    }
   ],
   "source": [
    "from featurewiz_polars import Featurewiz_MRMR, polars_train_test_split, print_classification_metrics, print_regression_metrics"
   ]
  },
  {
   "cell_type": "markdown",
   "id": "1039dbde",
   "metadata": {},
   "source": [
    "# Load file into Polars Dataframes"
   ]
  },
  {
   "cell_type": "code",
   "execution_count": 7,
   "id": "19b65ea9",
   "metadata": {},
   "outputs": [],
   "source": [
    "datapath = \"../../../documents/ram/data_sets/\"\n",
    "filename = \"ames_train.csv\""
   ]
  },
  {
   "cell_type": "code",
   "execution_count": 8,
   "id": "682085c8",
   "metadata": {},
   "outputs": [
    {
     "name": "stdout",
     "output_type": "stream",
     "text": [
      "Loaded data... (1460, 81)\n",
      "Data dimensions (rows x cols) = 116800 dims\n"
     ]
    }
   ],
   "source": [
    "df = pl.read_csv(datapath+filename, null_values=['NULL','NA'], try_parse_dates=True, infer_schema_length=10000, ignore_errors=True, )#.sample(1000)\n",
    "print('Loaded data...', df.shape)\n",
    "target = 'SalePrice' # Replace with your target column name\n",
    "model_type = 'Regression'\n",
    "if target not in df.columns:\n",
    "    print(f\"Error: Target column '{target}' not found in the CSV file.\")\n",
    "    exit()\n",
    "predictors = [x for x in df.columns if x!=target]\n",
    "X = df[predictors]\n",
    "y = df[target]\n",
    "print('Data dimensions (rows x cols) = %d dims' %(int(X.shape[0]*X.shape[1])))"
   ]
  },
  {
   "cell_type": "code",
   "execution_count": 9,
   "id": "4632f565",
   "metadata": {},
   "outputs": [
    {
     "data": {
      "text/plain": [
       "Int64"
      ]
     },
     "execution_count": 9,
     "metadata": {},
     "output_type": "execute_result"
    }
   ],
   "source": [
    "### You are going to use Polars train_test_split function to split the data into train and test\n",
    "### This is because Featurewiz_MRMR uses Polars dataframes and not Pandas dataframes\n",
    "X_train, X_test, y_train, y_test = polars_train_test_split(X, y, test_size=0.2, random_state=42)\n",
    "y_train.dtype"
   ]
  },
  {
   "cell_type": "markdown",
   "id": "bf77894d",
   "metadata": {},
   "source": [
    "# Setup Featurewiz-Polars"
   ]
  },
  {
   "cell_type": "code",
   "execution_count": 10,
   "id": "a0815591",
   "metadata": {},
   "outputs": [],
   "source": [
    "mrmr = Featurewiz_MRMR(model_type=model_type, corr_threshold=0.7, \n",
    "        verbose=0, encoding_type='ordinal', imputation_strategy=\"median\")\n",
    "\n",
    "if model_type == 'Regression':\n",
    "    model = RandomForestRegressor(n_estimators=100, random_state=99)\n",
    "else:\n",
    "    model = RandomForestClassifier(n_estimators=100, random_state=99)"
   ]
  },
  {
   "cell_type": "markdown",
   "id": "3bb980d2-9f94-4f55-9674-1c60f4a38e0b",
   "metadata": {},
   "source": [
    "# First run with featurewiz classic edition"
   ]
  },
  {
   "cell_type": "code",
   "execution_count": 11,
   "id": "db6de9d7-05ea-41c3-bc01-8d9a50c61fa6",
   "metadata": {},
   "outputs": [
    {
     "name": "stdout",
     "output_type": "stream",
     "text": [
      "Loaded input data. Shape = (1168, 80)\n",
      "    Warning: Too many features will be generated since categorical vars > 10. This may take time...\n",
      "#### Starting featurewiz transform for train data ####\n",
      "    Regression models don't need targets to be transformed to numeric...\n",
      "    Single_Label Regression problem \n",
      "Shape of dataset: (1168, 80). Now we classify variables into different types...\n",
      "Time taken to define data pipeline = 2 second(s)\n",
      "No model input given...\n",
      "Lazy Transformer Pipeline created...\n",
      "    Time taken to fit dataset = 2 second(s)\n",
      "    Time taken to transform dataset = 2 second(s)\n",
      "    Shape of transformed dataset: (1168, 293)\n",
      "    Single_Label Regression problem \n",
      "Starting SULOV with 278 features...\n",
      "    there are no null values in dataset...\n",
      "    there are no null values in target column...\n",
      "Completed SULOV. 233 features selected\n",
      "Performing recursive XGBoost feature selection from 233 features...\n",
      "    time taken to run entire featurewiz = 7 second(s)\n",
      "Recursive XGBoost selected 88 features...\n",
      "#### Starting featurewiz transform for test data ####\n",
      "Loaded input data. Shape = (292, 80)\n",
      "#### Starting lazytransform for test data ####\n",
      "    Time taken to transform dataset = 1 second(s)\n",
      "    Shape of transformed dataset: (292, 293)\n",
      "Returning dataframe with 88 features \n",
      "featurewiz selected features:  ['OverallQual', 'GrLivArea', 'TotalBsmtSF', 'BsmtFinSF1', 'GarageArea', 'BsmtQual_Ex', 'LotArea', 'YearRemodAdd', 'YearBuilt', 'OverallCond', 'KitchenQual_Ex', 'MoSold', 'LandContour_Bnk', 'KitchenQual_TA', '2ndFlrSF', 'Fireplaces', 'MasVnrArea', 'Id', 'CentralAir_Y', 'GarageFinish_Unf', 'SaleType_New', 'GarageYrBlt', 'OpenPorchSF', 'MSZoning_RM', 'BsmtUnfSF', 'LotFrontage', 'GarageType_Attchd', 'Neighborhood_Crawfor', 'WoodDeckSF', 'Functional_Typ', 'BsmtFinType2_LwQ', 'LotShape_Reg', 'SaleCondition_Family', 'BsmtFullBath', 'Alley_Grvl', 'BsmtExposure_Gd', 'Neighborhood_CollgCr', 'Neighborhood_StoneBr', 'Neighborhood_NAmes', 'ScreenPorch', 'MSZoning_Call', 'Condition1_Norm', 'KitchenQual_Fa', 'BsmtExposure_No', 'FireplaceQu_Gd', 'Functional_Maj2', 'Condition2_PosN', 'BsmtFinType1_GLQ', 'YrSold', 'PavedDrive_P', 'MSSubClass', 'RoofStyle_Gambrel', 'HouseStyle_15Fin', 'EnclosedPorch', 'PavedDrive_Y', 'MasVnrType_None', 'BedroomAbvGr', 'SaleCondition_Abnorml', 'BsmtQual_TA', 'FullBath', 'ExterQual_TA', 'GarageFinish_Fin', 'KitchenAbvGr', 'HalfBath', 'SaleCondition_Normal', 'SaleType_COD', 'BsmtFinSF2', 'Foundation_PConc', 'LandSlope_Gtl', 'Exterior2nd_MetalSd', 'RoofStyle_Hip', 'Exterior2nd_Plywood', 'Exterior2nd_CmentBd', 'Exterior1st_HdBoard', 'ExterCond_Gd', 'Exterior2nd_VinylSd', 'LotConfig_Inside', 'Exterior2nd_WdSdng', 'Electrical_SBrkr', 'RoofStyle_Flat', 'Neighborhood_Somerst', 'GarageCond_Po', 'MiscVal', 'Exterior1st_AsbShng', 'PoolQC_Fa', 'Exterior2nd_Stucco', 'Neighborhood_NPkVill', 'Heating_GasA']\n"
     ]
    }
   ],
   "source": [
    "X_train_selected, y_train = wiz.fit_transform(X_train.to_pandas(), y_train.to_pandas())\n",
    "X_test_selected = wiz.transform(X_test.to_pandas())\n",
    "selected_features = wiz.features\n",
    "print('featurewiz selected features: ', selected_features)"
   ]
  },
  {
   "cell_type": "markdown",
   "id": "b371ea04-b913-4f5d-8bc5-0250571c2e0a",
   "metadata": {},
   "source": [
    "# Then run with featurewiz polars edition"
   ]
  },
  {
   "cell_type": "code",
   "execution_count": 12,
   "id": "403970ae",
   "metadata": {},
   "outputs": [
    {
     "name": "stdout",
     "output_type": "stream",
     "text": [
      "\n",
      "Featurewiz Polars started. Model type: Regression\n",
      "SULOV selected Features (78): ['1stFlrSF', '2ndFlrSF', '3SsnPorch', 'Alley', 'BedroomAbvGr', 'BldgType', 'BsmtCond', 'BsmtExposure', 'BsmtFinSF1', 'BsmtFinSF2', 'BsmtFinType1', 'BsmtFinType2', 'BsmtFullBath', 'BsmtHalfBath', 'BsmtQual', 'BsmtUnfSF', 'CentralAir', 'Condition1', 'Condition2', 'Electrical', 'EnclosedPorch', 'ExterCond', 'ExterQual', 'Exterior1st', 'Exterior2nd', 'Fence', 'FireplaceQu', 'Fireplaces', 'Foundation', 'FullBath', 'Functional', 'GarageArea', 'GarageCars', 'GarageCond', 'GarageFinish', 'GarageQual', 'GarageType', 'GarageYrBlt', 'GrLivArea', 'HalfBath', 'Heating', 'HeatingQC', 'HouseStyle', 'Id', 'KitchenAbvGr', 'KitchenQual', 'LandContour', 'LandSlope', 'LotArea', 'LotConfig', 'LotFrontage', 'LotShape', 'LowQualFinSF', 'MSSubClass', 'MSZoning', 'MasVnrArea', 'MasVnrType', 'MiscFeature', 'MiscVal', 'MoSold', 'Neighborhood', 'OpenPorchSF', 'OverallCond', 'OverallQual', 'PavedDrive', 'PoolQC', 'RoofMatl', 'RoofStyle', 'SaleCondition', 'SaleType', 'ScreenPorch', 'Street', 'TotalBsmtSF', 'Utilities', 'WoodDeckSF', 'YearBuilt', 'YearRemodAdd', 'YrSold']\n",
      "\n",
      "--- Run 1 started ---\n",
      "\n",
      "--- Run 2 started ---\n",
      "\n",
      "--- Run 3 started ---\n",
      "\n",
      "Recursive XGBoost selected Features (16): ['YearBuilt', 'OverallQual', 'KitchenQual', '1stFlrSF', 'BsmtFinSF1', 'CentralAir', 'Fireplaces', 'FullBath', 'GarageArea', 'GarageCars', 'GrLivArea', 'Neighborhood', 'PavedDrive', 'SaleType', 'TotalBsmtSF', 'YearRemodAdd']\n",
      "\n",
      "Featurewiz-Polars feature selection with XGBoost estimator completed.\n",
      "Time taken  = 5.1 seconds\n",
      "<class 'polars.dataframe.frame.DataFrame'>\n",
      "<class 'pandas.core.series.Series'>\n"
     ]
    }
   ],
   "source": [
    "mrmr.fit(X_train, y_train)\n",
    "Xt, yt = mrmr.transform(X_train,y_train)\n",
    "Xtt = mrmr.transform(X_test)\n",
    "print(type(Xt))\n",
    "print(type(yt))"
   ]
  },
  {
   "cell_type": "markdown",
   "id": "05ae28cf-2b5e-4c0e-adad-aadabf8126b9",
   "metadata": {},
   "source": [
    "# Train two different Models with two different feature sets"
   ]
  },
  {
   "cell_type": "code",
   "execution_count": 13,
   "id": "5f9b3cd9-1fb2-4df9-a87d-cd9cdeb0d26b",
   "metadata": {},
   "outputs": [],
   "source": [
    "import copy\n",
    "modelx = copy.deepcopy(model)\n",
    "modelx.fit(X_train_selected, y_train)\n",
    "y_predx = modelx.predict(X_test_selected)"
   ]
  },
  {
   "cell_type": "code",
   "execution_count": 14,
   "id": "256dca02",
   "metadata": {},
   "outputs": [],
   "source": [
    "modely = copy.deepcopy(model)\n",
    "modely.fit(Xt, yt)\n",
    "y_predy = modely.predict(Xtt)"
   ]
  },
  {
   "cell_type": "markdown",
   "id": "d0c53fb1-83cf-4b7f-a98c-b64496491c48",
   "metadata": {},
   "source": [
    "# performance of featurewiz featureset"
   ]
  },
  {
   "cell_type": "code",
   "execution_count": 15,
   "id": "3ef24f12",
   "metadata": {},
   "outputs": [
    {
     "name": "stdout",
     "output_type": "stream",
     "text": [
      "    RMSE = 34857.639\n",
      "    Norm RMSE = 43%\n",
      "    MAE = 19266.065\n",
      "    WAPE = 11%, Bias = -0.1%\n",
      "    MAPE = 1094%\n",
      "\tHint: high MAPE: try np.log(y) instead of (y).\n",
      "    R-Squared = 82%\n"
     ]
    }
   ],
   "source": [
    "if model_type.lower() == 'classification':\n",
    "    print_classification_metrics(y_test.to_pandas().ravel(), y_predx, verbose=1)\n",
    "else:\n",
    "    print_regression_metrics(y_test.to_pandas().ravel(), y_predx, verbose=1)"
   ]
  },
  {
   "cell_type": "markdown",
   "id": "b9ada74b-050c-41c4-9ae2-315721b3f14a",
   "metadata": {},
   "source": [
    "# performance of featurewiz polars featureset"
   ]
  },
  {
   "cell_type": "code",
   "execution_count": 16,
   "id": "651a5de4-eaf2-447f-b48a-6b3da79a5d43",
   "metadata": {},
   "outputs": [
    {
     "name": "stdout",
     "output_type": "stream",
     "text": [
      "    RMSE = 32607.455\n",
      "    Norm RMSE = 40%\n",
      "    MAE = 19346.825\n",
      "    WAPE = 11%, Bias = 0.2%\n",
      "    MAPE = 1113%\n",
      "\tHint: high MAPE: try np.log(y) instead of (y).\n",
      "    R-Squared = 84%\n"
     ]
    }
   ],
   "source": [
    "if model_type.lower() == 'classification':\n",
    "    print_classification_metrics(y_test.to_pandas().ravel(), y_predy, verbose=1)\n",
    "else:\n",
    "    print_regression_metrics(y_test.to_pandas().ravel(), y_predy, verbose=1)"
   ]
  },
  {
   "cell_type": "markdown",
   "id": "b08267e6-c5b3-4ee1-b404-0f11e3026e59",
   "metadata": {},
   "source": [
    "# In this specific dataset, Featurewiz-Polars narrowly beats classic featurewiz in RMSE with fewer features"
   ]
  },
  {
   "cell_type": "code",
   "execution_count": null,
   "id": "69d6c30d",
   "metadata": {},
   "outputs": [],
   "source": []
  }
 ],
 "metadata": {
  "kernelspec": {
   "display_name": "base",
   "language": "python",
   "name": "python3"
  },
  "language_info": {
   "codemirror_mode": {
    "name": "ipython",
    "version": 3
   },
   "file_extension": ".py",
   "mimetype": "text/x-python",
   "name": "python",
   "nbconvert_exporter": "python",
   "pygments_lexer": "ipython3",
   "version": "3.12.3"
  }
 },
 "nbformat": 4,
 "nbformat_minor": 5
}
