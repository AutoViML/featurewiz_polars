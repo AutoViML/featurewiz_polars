{
 "cells": [
  {
   "cell_type": "code",
   "execution_count": 1,
   "metadata": {
    "scrolled": true
   },
   "outputs": [
    {
     "name": "stdout",
     "output_type": "stream",
     "text": [
      "Imported featurewiz_polars 0.1.0. Use the following syntax:\n",
      " >> from featurewiz_polars import Featurewiz_MRMR, Featurewiz_MRMR_Model\n",
      " >> wiz = Featurewiz_MRMR(model_type='Classification')\n",
      " >> X_transformed, y_transformed = wiz.fit_transform(X_train, y_train)\n",
      " >> X_test_transformed = wiz.transform(X_test)\n",
      " >> print(wiz.selected_features)\n",
      "    \n"
     ]
    }
   ],
   "source": [
    "from featurewiz_polars import print_classification_metrics, print_regression_metrics\n",
    "from featurewiz_polars import Featurewiz_MRMR, Featurewiz_MRMR_Model"
   ]
  },
  {
   "cell_type": "code",
   "execution_count": 2,
   "metadata": {},
   "outputs": [],
   "source": [
    "import polars as pl\n",
    "import numpy as np\n",
    "import pandas as pd\n",
    "from sklearn.datasets import make_classification\n",
    "from sklearn.model_selection import train_test_split\n",
    "import time\n",
    "from sklearn.pipeline import Pipeline\n",
    "import pdb\n",
    "from sklearn.ensemble import RandomForestClassifier, RandomForestRegressor"
   ]
  },
  {
   "cell_type": "code",
   "execution_count": 3,
   "metadata": {},
   "outputs": [],
   "source": [
    "datapath = \"../../data_sets/\"\n",
    "filename = \"heart.csv\"\n",
    "#sep='\\t'\n",
    "sep = ','"
   ]
  },
  {
   "cell_type": "code",
   "execution_count": 4,
   "metadata": {},
   "outputs": [
    {
     "name": "stdout",
     "output_type": "stream",
     "text": [
      "Loaded data... (303, 14)\n",
      "['age', 'sex', 'cp', 'trestbps', 'chol', 'fbs', 'restecg', 'thalach', 'exang', 'oldpeak', 'slope', 'ca', 'thal', 'target']\n"
     ]
    }
   ],
   "source": [
    "n_features = 20\n",
    "n_informative = 10\n",
    "#X, y = make_classification(n_samples = 5000, n_features = n_features, \n",
    "#                n_informative = n_informative, n_redundant=4, random_state=42)\n",
    "df = pl.read_csv(datapath+filename, separator=sep, null_values='NULL', try_parse_dates=True)#.sample(1000)\n",
    "print('Loaded data...', df.shape)\n",
    "print(df.columns)"
   ]
  },
  {
   "cell_type": "raw",
   "metadata": {},
   "source": [
    "# from featurewiz_polars import Polars_MissingTransformer\n",
    "ms = Polars_MissingTransformer()\n",
    "ms.fit(df)\n",
    "df = ms.transform(df)"
   ]
  },
  {
   "cell_type": "code",
   "execution_count": 5,
   "metadata": {},
   "outputs": [],
   "source": [
    "target = 'target' # Replace with your target column name\n",
    "model_type = 'Classification'"
   ]
  },
  {
   "cell_type": "code",
   "execution_count": 6,
   "metadata": {},
   "outputs": [
    {
     "name": "stdout",
     "output_type": "stream",
     "text": [
      "Data dimensions (rows x cols) = 3939 dims\n"
     ]
    },
    {
     "data": {
      "text/plain": [
       "Int64"
      ]
     },
     "execution_count": 6,
     "metadata": {},
     "output_type": "execute_result"
    }
   ],
   "source": [
    "if target not in df.columns:\n",
    "    print(f\"Error: Target column '{target}' not found in the CSV file.\")\n",
    "    exit()\n",
    "predictors = [x for x in df.columns if x!=target]\n",
    "X = df[predictors]\n",
    "y = df[target]\n",
    "print('Data dimensions (rows x cols) = %d dims' %(int(X.shape[0]*X.shape[1])))\n",
    "X_train, X_test, y_train, y_test = train_test_split(X, y, test_size=0.2, random_state=42)\n",
    "y_train.dtype"
   ]
  },
  {
   "cell_type": "code",
   "execution_count": 7,
   "metadata": {},
   "outputs": [
    {
     "data": {
      "text/html": [
       "<div><style>\n",
       ".dataframe > thead > tr,\n",
       ".dataframe > tbody > tr {\n",
       "  text-align: right;\n",
       "  white-space: pre-wrap;\n",
       "}\n",
       "</style>\n",
       "<small>shape: (1, 14)</small><table border=\"1\" class=\"dataframe\"><thead><tr><th>age</th><th>sex</th><th>cp</th><th>trestbps</th><th>chol</th><th>fbs</th><th>restecg</th><th>thalach</th><th>exang</th><th>oldpeak</th><th>slope</th><th>ca</th><th>thal</th><th>target</th></tr><tr><td>u32</td><td>u32</td><td>u32</td><td>u32</td><td>u32</td><td>u32</td><td>u32</td><td>u32</td><td>u32</td><td>u32</td><td>u32</td><td>u32</td><td>u32</td><td>u32</td></tr></thead><tbody><tr><td>0</td><td>0</td><td>0</td><td>0</td><td>0</td><td>0</td><td>0</td><td>0</td><td>0</td><td>0</td><td>0</td><td>0</td><td>0</td><td>0</td></tr></tbody></table></div>"
      ],
      "text/plain": [
       "shape: (1, 14)\n",
       "┌─────┬─────┬─────┬──────────┬───┬───────┬─────┬──────┬────────┐\n",
       "│ age ┆ sex ┆ cp  ┆ trestbps ┆ … ┆ slope ┆ ca  ┆ thal ┆ target │\n",
       "│ --- ┆ --- ┆ --- ┆ ---      ┆   ┆ ---   ┆ --- ┆ ---  ┆ ---    │\n",
       "│ u32 ┆ u32 ┆ u32 ┆ u32      ┆   ┆ u32   ┆ u32 ┆ u32  ┆ u32    │\n",
       "╞═════╪═════╪═════╪══════════╪═══╪═══════╪═════╪══════╪════════╡\n",
       "│ 0   ┆ 0   ┆ 0   ┆ 0        ┆ … ┆ 0     ┆ 0   ┆ 0    ┆ 0      │\n",
       "└─────┴─────┴─────┴──────────┴───┴───────┴─────┴──────┴────────┘"
      ]
     },
     "execution_count": 7,
     "metadata": {},
     "output_type": "execute_result"
    }
   ],
   "source": [
    "df.null_count()"
   ]
  },
  {
   "cell_type": "code",
   "execution_count": 8,
   "metadata": {},
   "outputs": [],
   "source": [
    "if model_type == 'Regression':\n",
    "    model = RandomForestRegressor(n_estimators=100, random_state=99)\n",
    "else:\n",
    "    model = RandomForestClassifier(n_estimators=100, random_state=99)\n",
    "#testp = Featurewiz_MRMR(model_type=model_type, encoding_type='ordinal')\n",
    "testp = Featurewiz_MRMR_Model(model=model, model_type=model_type, encoding_type='ordinal', verbose=1)"
   ]
  },
  {
   "cell_type": "code",
   "execution_count": 9,
   "metadata": {},
   "outputs": [
    {
     "name": "stdout",
     "output_type": "stream",
     "text": [
      "Model type: Classification\n",
      "\n",
      "========================================\n",
      "Polars Featurewiz SULOV-MRMR Feature Selection Algorithm\n",
      "Initial Features: 13\n",
      "========================================\n",
      "SULOV removed Features (0): \n",
      "SULOV selected Features (13): ['age', 'sex', 'cp', 'trestbps', 'chol', 'fbs', 'restecg', 'thalach', 'exang', 'oldpeak', 'slope', 'ca', 'thal']\n",
      "base importances:  [0.0359188  0.05908456 0.19068019 0.0363472  0.03393608 0.02983795\n",
      " 0.02683796 0.0295918  0.16715045 0.08929925 0.05594965 0.13838224\n",
      " 0.10698391] tier_thresholds[1] 0.1441358834505081\n",
      "iter limit 3\n",
      "iteration # 0\n",
      "feature importances: \n",
      " age     0.151992\n",
      "ca      0.726187\n",
      "chol    0.121820\n",
      "dtype: float32\n",
      "selected after importance:  ['ca']\n",
      "iteration # 3\n",
      "feature importances: \n",
      " cp       0.527326\n",
      "exang    0.397174\n",
      "fbs      0.075500\n",
      "dtype: float32\n",
      "selected after importance:  ['cp']\n",
      "iteration # 6\n",
      "feature importances: \n",
      " oldpeak    0.369984\n",
      "restecg    0.248473\n",
      "sex        0.381543\n",
      "dtype: float32\n",
      "selected after importance:  ['oldpeak', 'sex']\n",
      "iteration # 9\n",
      "feature importances: \n",
      " slope      0.113591\n",
      "thal       0.797247\n",
      "thalach    0.089162\n",
      "dtype: float32\n",
      "selected after importance:  ['thal']\n",
      "iteration # 12\n",
      "final votes per feature:\n",
      " thal       1.346154\n",
      "oldpeak    1.230769\n",
      "sex        1.230769\n",
      "cp         1.115385\n",
      "ca         1.000000\n",
      "dtype: float64\n",
      "final features:\n",
      "['ca', 'cp', 'sex', 'oldpeak', 'thal']\n",
      "Top tier features combined with recursive features: \n",
      "['chol', 'sex']\n",
      "\n",
      "Recursive XGBoost selected Features (6): ['ca', 'chol', 'cp', 'oldpeak', 'sex', 'thal']\n",
      "\n",
      "Polars Featurewiz MRMR completed. Time taken  = 1.1 seconds\n",
      "    Use \"selected_features\" attribute to retrieve list of selected features from featurewiz pipeline\n",
      "<class 'polars.dataframe.frame.DataFrame'>\n",
      "<class 'polars.series.series.Series'>\n"
     ]
    }
   ],
   "source": [
    "testp.fit(X_train, y_train)\n",
    "Xt, yt = testp.transform(X_train,y_train)\n",
    "print(type(Xt))\n",
    "print(type(yt))"
   ]
  },
  {
   "cell_type": "code",
   "execution_count": 10,
   "metadata": {},
   "outputs": [
    {
     "name": "stdout",
     "output_type": "stream",
     "text": [
      "6\n"
     ]
    },
    {
     "data": {
      "text/plain": [
       "polars.dataframe.frame.DataFrame"
      ]
     },
     "execution_count": 10,
     "metadata": {},
     "output_type": "execute_result"
    }
   ],
   "source": [
    "print(len(testp.selected_features))\n",
    "Xtt = testp.transform(X_test)\n",
    "type(Xtt)"
   ]
  },
  {
   "cell_type": "code",
   "execution_count": 11,
   "metadata": {},
   "outputs": [
    {
     "name": "stdout",
     "output_type": "stream",
     "text": [
      "Bal accu 84%\n",
      "              precision    recall  f1-score   support\n",
      "\n",
      "           0       0.83      0.83      0.83        29\n",
      "           1       0.84      0.84      0.84        32\n",
      "\n",
      "    accuracy                           0.84        61\n",
      "   macro avg       0.84      0.84      0.84        61\n",
      "weighted avg       0.84      0.84      0.84        61\n",
      "\n",
      "final average balanced accuracy score = 0.84\n"
     ]
    }
   ],
   "source": [
    "y_testt = testp.y_encoder.transform(y_test)\n",
    "ypt = testp.predict(X_test)\n",
    "if model_type=='Regression':\n",
    "    print_regression_metrics(y_testt.to_numpy().ravel(), ypt, verbose=1)\n",
    "else:\n",
    "    print_classification_metrics(y_testt.to_numpy().ravel(), ypt, verbose=1)"
   ]
  },
  {
   "cell_type": "code",
   "execution_count": null,
   "metadata": {},
   "outputs": [],
   "source": []
  },
  {
   "cell_type": "code",
   "execution_count": null,
   "metadata": {},
   "outputs": [],
   "source": []
  },
  {
   "cell_type": "code",
   "execution_count": null,
   "metadata": {},
   "outputs": [],
   "source": []
  },
  {
   "cell_type": "code",
   "execution_count": null,
   "metadata": {},
   "outputs": [],
   "source": []
  },
  {
   "cell_type": "code",
   "execution_count": null,
   "metadata": {},
   "outputs": [],
   "source": []
  },
  {
   "cell_type": "code",
   "execution_count": null,
   "metadata": {},
   "outputs": [],
   "source": []
  },
  {
   "cell_type": "code",
   "execution_count": null,
   "metadata": {},
   "outputs": [],
   "source": []
  },
  {
   "cell_type": "code",
   "execution_count": null,
   "metadata": {},
   "outputs": [],
   "source": []
  },
  {
   "cell_type": "code",
   "execution_count": null,
   "metadata": {},
   "outputs": [],
   "source": []
  },
  {
   "cell_type": "code",
   "execution_count": null,
   "metadata": {},
   "outputs": [],
   "source": []
  }
 ],
 "metadata": {
  "kernelspec": {
   "display_name": "Python 3",
   "language": "python",
   "name": "python3"
  },
  "language_info": {
   "codemirror_mode": {
    "name": "ipython",
    "version": 3
   },
   "file_extension": ".py",
   "mimetype": "text/x-python",
   "name": "python",
   "nbconvert_exporter": "python",
   "pygments_lexer": "ipython3",
   "version": "3.12.3"
  }
 },
 "nbformat": 4,
 "nbformat_minor": 4
}
