{
 "cells": [
  {
   "cell_type": "code",
   "execution_count": 1,
   "metadata": {
    "_cell_guid": "b1076dfc-b9ad-4769-8c92-a6c4dae69d19",
    "_uuid": "8f2839f25d086af736a60e9eeb907d3b93b6e0e5",
    "execution": {
     "iopub.execute_input": "2025-02-24T13:35:58.205703Z",
     "iopub.status.busy": "2025-02-24T13:35:58.205350Z",
     "iopub.status.idle": "2025-02-24T13:35:58.222465Z",
     "shell.execute_reply": "2025-02-24T13:35:58.221280Z",
     "shell.execute_reply.started": "2025-02-24T13:35:58.205666Z"
    },
    "trusted": true
   },
   "outputs": [],
   "source": [
    "# This Python 3 environment comes with many helpful analytics libraries installed\n",
    "# It is defined by the kaggle/python Docker image: https://github.com/kaggle/docker-python\n",
    "# For example, here's several helpful packages to load\n",
    "\n",
    "import numpy as np # linear algebra\n",
    "import pandas as pd # data processing, CSV file I/O (e.g. pd.read_csv)\n",
    "\n",
    "# Input data files are available in the read-only \"../input/\" directory\n",
    "# For example, running this (by clicking run or pressing Shift+Enter) will list all files under the input directory\n",
    "\n",
    "import os\n",
    "for dirname, _, filenames in os.walk('/kaggle/input'):\n",
    "    for filename in filenames:\n",
    "        print(os.path.join(dirname, filename))\n",
    "\n",
    "# You can write up to 20GB to the current directory (/kaggle/working/) that gets preserved as output when you create a version using \"Save & Run All\" \n",
    "# You can also write temporary files to /kaggle/temp/, but they won't be saved outside of the current session"
   ]
  },
  {
   "cell_type": "code",
   "execution_count": 2,
   "metadata": {
    "execution": {
     "iopub.execute_input": "2025-02-24T13:35:59.426780Z",
     "iopub.status.busy": "2025-02-24T13:35:59.426417Z",
     "iopub.status.idle": "2025-02-24T13:35:59.431790Z",
     "shell.execute_reply": "2025-02-24T13:35:59.430703Z",
     "shell.execute_reply.started": "2025-02-24T13:35:59.426750Z"
    },
    "trusted": true
   },
   "outputs": [
    {
     "name": "stdout",
     "output_type": "stream",
     "text": [
      "3.12.3 | packaged by conda-forge | (main, Apr 15 2024, 18:20:11) [MSC v.1938 64 bit (AMD64)]\n"
     ]
    }
   ],
   "source": [
    "import sys\n",
    "print(sys.version)"
   ]
  },
  {
   "cell_type": "code",
   "execution_count": 3,
   "metadata": {
    "execution": {
     "iopub.execute_input": "2025-02-24T13:36:00.658335Z",
     "iopub.status.busy": "2025-02-24T13:36:00.657989Z",
     "iopub.status.idle": "2025-02-24T13:36:00.663039Z",
     "shell.execute_reply": "2025-02-24T13:36:00.661657Z",
     "shell.execute_reply.started": "2025-02-24T13:36:00.658310Z"
    },
    "trusted": true
   },
   "outputs": [],
   "source": [
    "#datapath = '/kaggle/input/sales-dataset/'\n",
    "datapath = '../../../Documents/Ram/data_sets/'\n",
    "filename = 'affairs_multiclass.csv'"
   ]
  },
  {
   "cell_type": "code",
   "execution_count": 4,
   "metadata": {
    "execution": {
     "iopub.execute_input": "2025-02-24T13:36:06.897988Z",
     "iopub.status.busy": "2025-02-24T13:36:06.897594Z",
     "iopub.status.idle": "2025-02-24T13:36:17.759390Z",
     "shell.execute_reply": "2025-02-24T13:36:17.758014Z",
     "shell.execute_reply.started": "2025-02-24T13:36:06.897956Z"
    },
    "trusted": true
   },
   "outputs": [],
   "source": [
    "#!pip install git+https://github.com/AutoViML/featurewiz_polars.git"
   ]
  },
  {
   "cell_type": "code",
   "execution_count": 5,
   "metadata": {
    "execution": {
     "iopub.execute_input": "2025-02-24T13:36:52.650271Z",
     "iopub.status.busy": "2025-02-24T13:36:52.649892Z",
     "iopub.status.idle": "2025-02-24T13:36:53.506405Z",
     "shell.execute_reply": "2025-02-24T13:36:53.505388Z",
     "shell.execute_reply.started": "2025-02-24T13:36:52.650240Z"
    },
    "trusted": true
   },
   "outputs": [
    {
     "name": "stdout",
     "output_type": "stream",
     "text": [
      "(6366, 9)\n"
     ]
    },
    {
     "data": {
      "text/html": [
       "<div><style>\n",
       ".dataframe > thead > tr,\n",
       ".dataframe > tbody > tr {\n",
       "  text-align: right;\n",
       "  white-space: pre-wrap;\n",
       "}\n",
       "</style>\n",
       "<small>shape: (5, 9)</small><table border=\"1\" class=\"dataframe\"><thead><tr><th>rate_marriage</th><th>age</th><th>yrs_married</th><th>children</th><th>religious</th><th>educ</th><th>occupation</th><th>occupation_husb</th><th>affair_multiclass</th></tr><tr><td>i64</td><td>f64</td><td>f64</td><td>f64</td><td>i64</td><td>i64</td><td>i64</td><td>i64</td><td>i64</td></tr></thead><tbody><tr><td>3</td><td>32.0</td><td>9.0</td><td>3.0</td><td>3</td><td>17</td><td>2</td><td>5</td><td>0</td></tr><tr><td>3</td><td>27.0</td><td>13.0</td><td>3.0</td><td>1</td><td>14</td><td>3</td><td>4</td><td>3</td></tr><tr><td>4</td><td>22.0</td><td>2.5</td><td>0.0</td><td>1</td><td>16</td><td>3</td><td>5</td><td>1</td></tr><tr><td>4</td><td>37.0</td><td>16.5</td><td>4.0</td><td>3</td><td>16</td><td>5</td><td>5</td><td>0</td></tr><tr><td>5</td><td>27.0</td><td>9.0</td><td>1.0</td><td>1</td><td>14</td><td>3</td><td>4</td><td>4</td></tr></tbody></table></div>"
      ],
      "text/plain": [
       "shape: (5, 9)\n",
       "┌──────────────┬──────┬─────────────┬──────────┬───┬──────┬────────────┬─────────────┬─────────────┐\n",
       "│ rate_marriag ┆ age  ┆ yrs_married ┆ children ┆ … ┆ educ ┆ occupation ┆ occupation_ ┆ affair_mult │\n",
       "│ e            ┆ ---  ┆ ---         ┆ ---      ┆   ┆ ---  ┆ ---        ┆ husb        ┆ iclass      │\n",
       "│ ---          ┆ f64  ┆ f64         ┆ f64      ┆   ┆ i64  ┆ i64        ┆ ---         ┆ ---         │\n",
       "│ i64          ┆      ┆             ┆          ┆   ┆      ┆            ┆ i64         ┆ i64         │\n",
       "╞══════════════╪══════╪═════════════╪══════════╪═══╪══════╪════════════╪═════════════╪═════════════╡\n",
       "│ 3            ┆ 32.0 ┆ 9.0         ┆ 3.0      ┆ … ┆ 17   ┆ 2          ┆ 5           ┆ 0           │\n",
       "│ 3            ┆ 27.0 ┆ 13.0        ┆ 3.0      ┆ … ┆ 14   ┆ 3          ┆ 4           ┆ 3           │\n",
       "│ 4            ┆ 22.0 ┆ 2.5         ┆ 0.0      ┆ … ┆ 16   ┆ 3          ┆ 5           ┆ 1           │\n",
       "│ 4            ┆ 37.0 ┆ 16.5        ┆ 4.0      ┆ … ┆ 16   ┆ 5          ┆ 5           ┆ 0           │\n",
       "│ 5            ┆ 27.0 ┆ 9.0         ┆ 1.0      ┆ … ┆ 14   ┆ 3          ┆ 4           ┆ 4           │\n",
       "└──────────────┴──────┴─────────────┴──────────┴───┴──────┴────────────┴─────────────┴─────────────┘"
      ]
     },
     "execution_count": 5,
     "metadata": {},
     "output_type": "execute_result"
    }
   ],
   "source": [
    "import polars as pl\n",
    "df = pl.read_csv(datapath+filename, null_values=['NULL','NA'], try_parse_dates=True, infer_schema_length=10000, ignore_errors=True)\n",
    "print(df.shape)\n",
    "df.head()"
   ]
  },
  {
   "cell_type": "code",
   "execution_count": 6,
   "metadata": {
    "execution": {
     "iopub.execute_input": "2025-02-24T13:37:59.426477Z",
     "iopub.status.busy": "2025-02-24T13:37:59.426103Z",
     "iopub.status.idle": "2025-02-24T13:37:59.433289Z",
     "shell.execute_reply": "2025-02-24T13:37:59.432185Z",
     "shell.execute_reply.started": "2025-02-24T13:37:59.426448Z"
    },
    "trusted": true
   },
   "outputs": [
    {
     "data": {
      "text/plain": [
       "8"
      ]
     },
     "execution_count": 6,
     "metadata": {},
     "output_type": "execute_result"
    }
   ],
   "source": [
    "model_type = \"Regression\"\n",
    "#model_type = \"Regression\"\n",
    "target = 'affair_multiclass'\n",
    "predictors = [x for x in df.columns if x not in [target]]\n",
    "len(predictors)"
   ]
  },
  {
   "cell_type": "code",
   "execution_count": 7,
   "metadata": {
    "execution": {
     "iopub.execute_input": "2025-02-24T13:38:34.520465Z",
     "iopub.status.busy": "2025-02-24T13:38:34.520113Z",
     "iopub.status.idle": "2025-02-24T13:38:35.229642Z",
     "shell.execute_reply": "2025-02-24T13:38:35.228679Z",
     "shell.execute_reply.started": "2025-02-24T13:38:34.520440Z"
    },
    "trusted": true
   },
   "outputs": [],
   "source": [
    "from sklearn.model_selection import train_test_split\n",
    "X = df[predictors] \n",
    "y = df[target] \n",
    "X_train, X_test, y_train, y_test = train_test_split(X, y, test_size=0.2, random_state=42)"
   ]
  },
  {
   "cell_type": "code",
   "execution_count": 8,
   "metadata": {
    "execution": {
     "iopub.execute_input": "2025-02-24T13:39:53.410046Z",
     "iopub.status.busy": "2025-02-24T13:39:53.409643Z",
     "iopub.status.idle": "2025-02-24T13:39:54.124367Z",
     "shell.execute_reply": "2025-02-24T13:39:54.123312Z",
     "shell.execute_reply.started": "2025-02-24T13:39:53.410012Z"
    },
    "trusted": true
   },
   "outputs": [
    {
     "name": "stdout",
     "output_type": "stream",
     "text": [
      "Imported featurewiz_polars 0.1.3. Use the following syntax:\n",
      " >> from featurewiz_polars import Featurewiz_MRMR, Featurewiz_MRMR_Model\n",
      " >> wiz = Featurewiz_MRMR(model_type='Classification')\n",
      " >> X_transformed, y_transformed = wiz.fit_transform(X_train, y_train)\n",
      " >> X_test_transformed = wiz.transform(X_test)\n",
      " >> print(wiz.selected_features)\n",
      "    \n"
     ]
    }
   ],
   "source": [
    "from featurewiz_polars import Featurewiz_MRMR, Featurewiz_MRMR_Model"
   ]
  },
  {
   "cell_type": "code",
   "execution_count": 27,
   "metadata": {
    "execution": {
     "iopub.execute_input": "2025-02-24T13:42:10.468173Z",
     "iopub.status.busy": "2025-02-24T13:42:10.467737Z",
     "iopub.status.idle": "2025-02-24T13:42:10.477193Z",
     "shell.execute_reply": "2025-02-24T13:42:10.475984Z",
     "shell.execute_reply.started": "2025-02-24T13:42:10.468142Z"
    },
    "trusted": true
   },
   "outputs": [
    {
     "data": {
      "text/html": [
       "<div><style>\n",
       ".dataframe > thead > tr,\n",
       ".dataframe > tbody > tr {\n",
       "  text-align: right;\n",
       "  white-space: pre-wrap;\n",
       "}\n",
       "</style>\n",
       "<small>shape: (5, 8)</small><table border=\"1\" class=\"dataframe\"><thead><tr><th>rate_marriage</th><th>age</th><th>yrs_married</th><th>children</th><th>religious</th><th>educ</th><th>occupation</th><th>occupation_husb</th></tr><tr><td>i64</td><td>f64</td><td>f64</td><td>f64</td><td>i64</td><td>i64</td><td>i64</td><td>i64</td></tr></thead><tbody><tr><td>3</td><td>27.0</td><td>13.0</td><td>2.0</td><td>2</td><td>12</td><td>2</td><td>4</td></tr><tr><td>4</td><td>22.0</td><td>2.5</td><td>0.0</td><td>1</td><td>12</td><td>3</td><td>3</td></tr><tr><td>5</td><td>32.0</td><td>16.5</td><td>3.0</td><td>3</td><td>17</td><td>4</td><td>5</td></tr><tr><td>4</td><td>42.0</td><td>23.0</td><td>4.0</td><td>1</td><td>16</td><td>4</td><td>5</td></tr><tr><td>5</td><td>27.0</td><td>6.0</td><td>0.0</td><td>2</td><td>16</td><td>3</td><td>4</td></tr></tbody></table></div>"
      ],
      "text/plain": [
       "shape: (5, 8)\n",
       "┌───────────────┬──────┬─────────────┬──────────┬───────────┬──────┬────────────┬─────────────────┐\n",
       "│ rate_marriage ┆ age  ┆ yrs_married ┆ children ┆ religious ┆ educ ┆ occupation ┆ occupation_husb │\n",
       "│ ---           ┆ ---  ┆ ---         ┆ ---      ┆ ---       ┆ ---  ┆ ---        ┆ ---             │\n",
       "│ i64           ┆ f64  ┆ f64         ┆ f64      ┆ i64       ┆ i64  ┆ i64        ┆ i64             │\n",
       "╞═══════════════╪══════╪═════════════╪══════════╪═══════════╪══════╪════════════╪═════════════════╡\n",
       "│ 3             ┆ 27.0 ┆ 13.0        ┆ 2.0      ┆ 2         ┆ 12   ┆ 2          ┆ 4               │\n",
       "│ 4             ┆ 22.0 ┆ 2.5         ┆ 0.0      ┆ 1         ┆ 12   ┆ 3          ┆ 3               │\n",
       "│ 5             ┆ 32.0 ┆ 16.5        ┆ 3.0      ┆ 3         ┆ 17   ┆ 4          ┆ 5               │\n",
       "│ 4             ┆ 42.0 ┆ 23.0        ┆ 4.0      ┆ 1         ┆ 16   ┆ 4          ┆ 5               │\n",
       "│ 5             ┆ 27.0 ┆ 6.0         ┆ 0.0      ┆ 2         ┆ 16   ┆ 3          ┆ 4               │\n",
       "└───────────────┴──────┴─────────────┴──────────┴───────────┴──────┴────────────┴─────────────────┘"
      ]
     },
     "execution_count": 27,
     "metadata": {},
     "output_type": "execute_result"
    }
   ],
   "source": [
    "X_train.head()"
   ]
  },
  {
   "cell_type": "code",
   "execution_count": 10,
   "metadata": {
    "execution": {
     "iopub.execute_input": "2025-02-24T13:40:04.146211Z",
     "iopub.status.busy": "2025-02-24T13:40:04.145816Z",
     "iopub.status.idle": "2025-02-24T13:40:04.151100Z",
     "shell.execute_reply": "2025-02-24T13:40:04.149951Z",
     "shell.execute_reply.started": "2025-02-24T13:40:04.146185Z"
    },
    "trusted": true
   },
   "outputs": [],
   "source": [
    "mrmr = Featurewiz_MRMR_Model(model_type=model_type, \n",
    "                corr_threshold=0.7, encoding_type='ordinal', classic=True, \n",
    "                verbose=0)"
   ]
  },
  {
   "cell_type": "code",
   "execution_count": 11,
   "metadata": {
    "execution": {
     "iopub.execute_input": "2025-02-24T13:40:19.553992Z",
     "iopub.status.busy": "2025-02-24T13:40:19.553560Z",
     "iopub.status.idle": "2025-02-24T13:40:19.685664Z",
     "shell.execute_reply": "2025-02-24T13:40:19.683895Z",
     "shell.execute_reply.started": "2025-02-24T13:40:19.553956Z"
    },
    "trusted": true
   },
   "outputs": [
    {
     "name": "stdout",
     "output_type": "stream",
     "text": [
      "\n",
      "Featurewiz Polars started. Model type: Regression\n",
      "SULOV selected Features (6): ['educ', 'occupation', 'occupation_husb', 'rate_marriage', 'religious', 'yrs_married']\n",
      "\n",
      "Recursive XGBoost selected Features (6): ['educ', 'occupation', 'occupation_husb', 'rate_marriage', 'religious', 'yrs_married']\n",
      "\n",
      "Featurewiz Polars MRMR completed. Time taken  = 1.2 seconds\n"
     ]
    }
   ],
   "source": [
    "X_transformed, y_transformed = mrmr.fit_transform(X_train, y_train)"
   ]
  },
  {
   "cell_type": "code",
   "execution_count": 13,
   "metadata": {},
   "outputs": [
    {
     "data": {
      "text/html": [
       "<div><style>\n",
       ".dataframe > thead > tr,\n",
       ".dataframe > tbody > tr {\n",
       "  text-align: right;\n",
       "  white-space: pre-wrap;\n",
       "}\n",
       "</style>\n",
       "<small>shape: (2, 6)</small><table border=\"1\" class=\"dataframe\"><thead><tr><th>educ</th><th>occupation</th><th>occupation_husb</th><th>rate_marriage</th><th>religious</th><th>yrs_married</th></tr><tr><td>f64</td><td>f64</td><td>f64</td><td>f64</td><td>f64</td><td>f64</td></tr></thead><tbody><tr><td>12.0</td><td>2.0</td><td>4.0</td><td>3.0</td><td>2.0</td><td>13.0</td></tr><tr><td>12.0</td><td>3.0</td><td>3.0</td><td>4.0</td><td>1.0</td><td>2.5</td></tr></tbody></table></div>"
      ],
      "text/plain": [
       "shape: (2, 6)\n",
       "┌──────┬────────────┬─────────────────┬───────────────┬───────────┬─────────────┐\n",
       "│ educ ┆ occupation ┆ occupation_husb ┆ rate_marriage ┆ religious ┆ yrs_married │\n",
       "│ ---  ┆ ---        ┆ ---             ┆ ---           ┆ ---       ┆ ---         │\n",
       "│ f64  ┆ f64        ┆ f64             ┆ f64           ┆ f64       ┆ f64         │\n",
       "╞══════╪════════════╪═════════════════╪═══════════════╪═══════════╪═════════════╡\n",
       "│ 12.0 ┆ 2.0        ┆ 4.0             ┆ 3.0           ┆ 2.0       ┆ 13.0        │\n",
       "│ 12.0 ┆ 3.0        ┆ 3.0             ┆ 4.0           ┆ 1.0       ┆ 2.5         │\n",
       "└──────┴────────────┴─────────────────┴───────────────┴───────────┴─────────────┘"
      ]
     },
     "execution_count": 13,
     "metadata": {},
     "output_type": "execute_result"
    }
   ],
   "source": [
    "X_transformed.head(2)"
   ]
  },
  {
   "cell_type": "code",
   "execution_count": 14,
   "metadata": {},
   "outputs": [
    {
     "data": {
      "text/plain": [
       "array([0.06      , 0.76147691, 0.11528873, ..., 0.04      , 0.79969048,\n",
       "       1.23422222])"
      ]
     },
     "execution_count": 14,
     "metadata": {},
     "output_type": "execute_result"
    }
   ],
   "source": [
    "y_pred = mrmr.predict(X_test)\n",
    "y_pred"
   ]
  },
  {
   "cell_type": "code",
   "execution_count": 15,
   "metadata": {},
   "outputs": [
    {
     "name": "stdout",
     "output_type": "stream",
     "text": [
      "[0 1 0 ... 1 0 0]\n"
     ]
    }
   ],
   "source": [
    "if model_type == 'Classification':\n",
    "    y_test = mrmr.y_encoder.transform(y_test)\n",
    "    print(y_test.to_numpy().ravel())\n",
    "else:\n",
    "    print(y_test.to_numpy().ravel())"
   ]
  },
  {
   "cell_type": "code",
   "execution_count": 26,
   "metadata": {},
   "outputs": [
    {
     "name": "stdout",
     "output_type": "stream",
     "text": [
      "    RMSE = 1.428\n",
      "    Norm RMSE = 108%\n",
      "    MAE = 0.731\n",
      "    WAPE = 167%, Bias = -20.8%\n",
      "    No MAPE available since zeroes in actuals\n",
      "    R-Squared = -17%\n"
     ]
    }
   ],
   "source": [
    "from featurewiz_polars import print_regression_metrics, print_classification_metrics\n",
    "if model_type == 'Classification':\n",
    "    print_classification_metrics(y_test.to_numpy().ravel(), y_pred, verbose=1)\n",
    "else:\n",
    "    print_regression_metrics(y_test.to_numpy().ravel(), y_pred, verbose=1)"
   ]
  },
  {
   "cell_type": "code",
   "execution_count": null,
   "metadata": {},
   "outputs": [],
   "source": []
  },
  {
   "cell_type": "code",
   "execution_count": null,
   "metadata": {},
   "outputs": [],
   "source": []
  }
 ],
 "metadata": {
  "kaggle": {
   "accelerator": "none",
   "dataSources": [
    {
     "datasetId": 6688404,
     "sourceId": 10779441,
     "sourceType": "datasetVersion"
    }
   ],
   "dockerImageVersionId": 30839,
   "isGpuEnabled": false,
   "isInternetEnabled": true,
   "language": "python",
   "sourceType": "notebook"
  },
  "kernelspec": {
   "display_name": "base",
   "language": "python",
   "name": "python3"
  },
  "language_info": {
   "codemirror_mode": {
    "name": "ipython",
    "version": 3
   },
   "file_extension": ".py",
   "mimetype": "text/x-python",
   "name": "python",
   "nbconvert_exporter": "python",
   "pygments_lexer": "ipython3",
   "version": "3.12.3"
  }
 },
 "nbformat": 4,
 "nbformat_minor": 4
}
