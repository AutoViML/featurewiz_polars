{
 "cells": [
  {
   "cell_type": "markdown",
   "metadata": {
    "_cell_guid": "b1076dfc-b9ad-4769-8c92-a6c4dae69d19",
    "_uuid": "8f2839f25d086af736a60e9eeb907d3b93b6e0e5",
    "execution": {
     "iopub.execute_input": "2025-02-24T13:35:58.205703Z",
     "iopub.status.busy": "2025-02-24T13:35:58.205350Z",
     "iopub.status.idle": "2025-02-24T13:35:58.222465Z",
     "shell.execute_reply": "2025-02-24T13:35:58.221280Z",
     "shell.execute_reply.started": "2025-02-24T13:35:58.205666Z"
    },
    "trusted": true
   },
   "source": [
    "[![Open In Colab](https://colab.research.google.com/assets/colab-badge.svg)](https://colab.research.google.com/github/AutoViML/featurewiz_polars/blob/main/examples/featurewiz-polars-test.ipynb)"
   ]
  },
  {
   "cell_type": "code",
   "execution_count": 1,
   "metadata": {},
   "outputs": [],
   "source": [
    "# This Python 3 environment comes with many helpful analytics libraries installed\n",
    "# It is defined by the kaggle/python Docker image: https://github.com/kaggle/docker-python\n",
    "# For example, here's several helpful packages to load\n",
    "\n",
    "import numpy as np # linear algebra\n",
    "import pandas as pd # data processing, CSV file I/O (e.g. pd.read_csv)\n",
    "\n",
    "# Input data files are available in the read-only \"../input/\" directory\n",
    "# For example, running this (by clicking run or pressing Shift+Enter) will list all files under the input directory\n",
    "\n",
    "import os\n",
    "for dirname, _, filenames in os.walk('/kaggle/input'):\n",
    "    for filename in filenames:\n",
    "        print(os.path.join(dirname, filename))\n",
    "\n",
    "# You can write up to 20GB to the current directory (/kaggle/working/) that gets preserved as output when you create a version using \"Save & Run All\" \n",
    "# You can also write temporary files to /kaggle/temp/, but they won't be saved outside of the current session"
   ]
  },
  {
   "cell_type": "code",
   "execution_count": 2,
   "metadata": {
    "execution": {
     "iopub.execute_input": "2025-02-24T13:35:59.426780Z",
     "iopub.status.busy": "2025-02-24T13:35:59.426417Z",
     "iopub.status.idle": "2025-02-24T13:35:59.431790Z",
     "shell.execute_reply": "2025-02-24T13:35:59.430703Z",
     "shell.execute_reply.started": "2025-02-24T13:35:59.426750Z"
    },
    "trusted": true
   },
   "outputs": [
    {
     "name": "stdout",
     "output_type": "stream",
     "text": [
      "3.12.3 | packaged by conda-forge | (main, Apr 15 2024, 18:20:11) [MSC v.1938 64 bit (AMD64)]\n",
      "Imported featurewiz_polars 0.3.0. Use the following syntax:\n",
      " >> from featurewiz_polars import FeatureWiz, FeatureWiz_Model\n",
      "    \n"
     ]
    }
   ],
   "source": [
    "import sys\n",
    "print(sys.version)\n",
    "from featurewiz_polars import FeatureWiz, FeatureWiz_Model, polars_train_test_split\n",
    "from sklearn.model_selection import train_test_split \n"
   ]
  },
  {
   "cell_type": "code",
   "execution_count": 3,
   "metadata": {
    "execution": {
     "iopub.execute_input": "2025-02-24T13:36:00.658335Z",
     "iopub.status.busy": "2025-02-24T13:36:00.657989Z",
     "iopub.status.idle": "2025-02-24T13:36:00.663039Z",
     "shell.execute_reply": "2025-02-24T13:36:00.661657Z",
     "shell.execute_reply.started": "2025-02-24T13:36:00.658310Z"
    },
    "trusted": true
   },
   "outputs": [],
   "source": [
    "#datapath = '/kaggle/input/sales-dataset/'\n",
    "datapath = '../data/'\n",
    "filename = 'house_price_regression.csv'"
   ]
  },
  {
   "cell_type": "code",
   "execution_count": 4,
   "metadata": {
    "execution": {
     "iopub.execute_input": "2025-02-24T13:36:06.897988Z",
     "iopub.status.busy": "2025-02-24T13:36:06.897594Z",
     "iopub.status.idle": "2025-02-24T13:36:17.759390Z",
     "shell.execute_reply": "2025-02-24T13:36:17.758014Z",
     "shell.execute_reply.started": "2025-02-24T13:36:06.897956Z"
    },
    "trusted": true
   },
   "outputs": [],
   "source": [
    "#!pip install git+https://github.com/AutoViML/featurewiz_polars.git"
   ]
  },
  {
   "cell_type": "code",
   "execution_count": 5,
   "metadata": {
    "execution": {
     "iopub.execute_input": "2025-02-24T13:36:52.650271Z",
     "iopub.status.busy": "2025-02-24T13:36:52.649892Z",
     "iopub.status.idle": "2025-02-24T13:36:53.506405Z",
     "shell.execute_reply": "2025-02-24T13:36:53.505388Z",
     "shell.execute_reply.started": "2025-02-24T13:36:52.650240Z"
    },
    "trusted": true
   },
   "outputs": [
    {
     "name": "stdout",
     "output_type": "stream",
     "text": [
      "(545, 13)\n"
     ]
    },
    {
     "data": {
      "text/html": [
       "<div><style>\n",
       ".dataframe > thead > tr,\n",
       ".dataframe > tbody > tr {\n",
       "  text-align: right;\n",
       "  white-space: pre-wrap;\n",
       "}\n",
       "</style>\n",
       "<small>shape: (5, 13)</small><table border=\"1\" class=\"dataframe\"><thead><tr><th>price</th><th>area</th><th>bedrooms</th><th>bathrooms</th><th>stories</th><th>mainroad</th><th>guestroom</th><th>basement</th><th>hotwaterheating</th><th>airconditioning</th><th>parking</th><th>prefarea</th><th>furnishingstatus</th></tr><tr><td>i64</td><td>i64</td><td>i64</td><td>i64</td><td>i64</td><td>str</td><td>str</td><td>str</td><td>str</td><td>str</td><td>i64</td><td>str</td><td>str</td></tr></thead><tbody><tr><td>13300000</td><td>7420</td><td>4</td><td>2</td><td>3</td><td>&quot;yes&quot;</td><td>&quot;no&quot;</td><td>&quot;no&quot;</td><td>&quot;no&quot;</td><td>&quot;yes&quot;</td><td>2</td><td>&quot;yes&quot;</td><td>&quot;furnished&quot;</td></tr><tr><td>12250000</td><td>8960</td><td>4</td><td>4</td><td>4</td><td>&quot;yes&quot;</td><td>&quot;no&quot;</td><td>&quot;no&quot;</td><td>&quot;no&quot;</td><td>&quot;yes&quot;</td><td>3</td><td>&quot;no&quot;</td><td>&quot;furnished&quot;</td></tr><tr><td>12250000</td><td>9960</td><td>3</td><td>2</td><td>2</td><td>&quot;yes&quot;</td><td>&quot;no&quot;</td><td>&quot;yes&quot;</td><td>&quot;no&quot;</td><td>&quot;no&quot;</td><td>2</td><td>&quot;yes&quot;</td><td>&quot;semi-furnished&quot;</td></tr><tr><td>12215000</td><td>7500</td><td>4</td><td>2</td><td>2</td><td>&quot;yes&quot;</td><td>&quot;no&quot;</td><td>&quot;yes&quot;</td><td>&quot;no&quot;</td><td>&quot;yes&quot;</td><td>3</td><td>&quot;yes&quot;</td><td>&quot;furnished&quot;</td></tr><tr><td>11410000</td><td>7420</td><td>4</td><td>1</td><td>2</td><td>&quot;yes&quot;</td><td>&quot;yes&quot;</td><td>&quot;yes&quot;</td><td>&quot;no&quot;</td><td>&quot;yes&quot;</td><td>2</td><td>&quot;no&quot;</td><td>&quot;furnished&quot;</td></tr></tbody></table></div>"
      ],
      "text/plain": [
       "shape: (5, 13)\n",
       "┌──────────┬──────┬──────────┬───────────┬───┬────────────────┬─────────┬──────────┬───────────────┐\n",
       "│ price    ┆ area ┆ bedrooms ┆ bathrooms ┆ … ┆ airconditionin ┆ parking ┆ prefarea ┆ furnishingsta │\n",
       "│ ---      ┆ ---  ┆ ---      ┆ ---       ┆   ┆ g              ┆ ---     ┆ ---      ┆ tus           │\n",
       "│ i64      ┆ i64  ┆ i64      ┆ i64       ┆   ┆ ---            ┆ i64     ┆ str      ┆ ---           │\n",
       "│          ┆      ┆          ┆           ┆   ┆ str            ┆         ┆          ┆ str           │\n",
       "╞══════════╪══════╪══════════╪═══════════╪═══╪════════════════╪═════════╪══════════╪═══════════════╡\n",
       "│ 13300000 ┆ 7420 ┆ 4        ┆ 2         ┆ … ┆ yes            ┆ 2       ┆ yes      ┆ furnished     │\n",
       "│ 12250000 ┆ 8960 ┆ 4        ┆ 4         ┆ … ┆ yes            ┆ 3       ┆ no       ┆ furnished     │\n",
       "│ 12250000 ┆ 9960 ┆ 3        ┆ 2         ┆ … ┆ no             ┆ 2       ┆ yes      ┆ semi-furnishe │\n",
       "│          ┆      ┆          ┆           ┆   ┆                ┆         ┆          ┆ d             │\n",
       "│ 12215000 ┆ 7500 ┆ 4        ┆ 2         ┆ … ┆ yes            ┆ 3       ┆ yes      ┆ furnished     │\n",
       "│ 11410000 ┆ 7420 ┆ 4        ┆ 1         ┆ … ┆ yes            ┆ 2       ┆ no       ┆ furnished     │\n",
       "└──────────┴──────┴──────────┴───────────┴───┴────────────────┴─────────┴──────────┴───────────────┘"
      ]
     },
     "execution_count": 5,
     "metadata": {},
     "output_type": "execute_result"
    }
   ],
   "source": [
    "import polars as pl\n",
    "df = pl.read_csv(datapath+filename, null_values=['NULL','NA'], try_parse_dates=True, infer_schema_length=10000, ignore_errors=True)\n",
    "#df = pd.read_csv(datapath+filename)\n",
    "print(df.shape)\n",
    "df.head()"
   ]
  },
  {
   "cell_type": "markdown",
   "metadata": {},
   "source": [
    "# There are some outliers which are distorting the results. So we will remove them!"
   ]
  },
  {
   "cell_type": "code",
   "execution_count": 6,
   "metadata": {},
   "outputs": [
    {
     "name": "stdout",
     "output_type": "stream",
     "text": [
      "(545, 13)\n"
     ]
    },
    {
     "data": {
      "text/plain": [
       "(537, 13)"
      ]
     },
     "execution_count": 6,
     "metadata": {},
     "output_type": "execute_result"
    }
   ],
   "source": [
    "print(df.shape)\n",
    "df = df.filter(pl.col(\"price\") < 10000000) \n",
    "df.shape"
   ]
  },
  {
   "cell_type": "code",
   "execution_count": 7,
   "metadata": {
    "execution": {
     "iopub.execute_input": "2025-02-24T13:37:59.426477Z",
     "iopub.status.busy": "2025-02-24T13:37:59.426103Z",
     "iopub.status.idle": "2025-02-24T13:37:59.433289Z",
     "shell.execute_reply": "2025-02-24T13:37:59.432185Z",
     "shell.execute_reply.started": "2025-02-24T13:37:59.426448Z"
    },
    "trusted": true
   },
   "outputs": [
    {
     "data": {
      "text/plain": [
       "12"
      ]
     },
     "execution_count": 7,
     "metadata": {},
     "output_type": "execute_result"
    }
   ],
   "source": [
    "model_type = \"Regression\"\n",
    "#model_type = \"Classification\"\n",
    "target = 'price'\n",
    "predictors = [x for x in df.columns if x not in [target]]\n",
    "len(predictors)"
   ]
  },
  {
   "cell_type": "code",
   "execution_count": 8,
   "metadata": {
    "execution": {
     "iopub.execute_input": "2025-02-24T13:38:34.520465Z",
     "iopub.status.busy": "2025-02-24T13:38:34.520113Z",
     "iopub.status.idle": "2025-02-24T13:38:35.229642Z",
     "shell.execute_reply": "2025-02-24T13:38:35.228679Z",
     "shell.execute_reply.started": "2025-02-24T13:38:34.520440Z"
    },
    "trusted": true
   },
   "outputs": [],
   "source": [
    "X = df[predictors] \n",
    "y = df[target] \n",
    "X_train, X_test, y_train, y_test = train_test_split(X, y, test_size=0.2, random_state=42)"
   ]
  },
  {
   "cell_type": "code",
   "execution_count": 11,
   "metadata": {
    "execution": {
     "iopub.execute_input": "2025-02-24T13:40:04.146211Z",
     "iopub.status.busy": "2025-02-24T13:40:04.145816Z",
     "iopub.status.idle": "2025-02-24T13:40:04.151100Z",
     "shell.execute_reply": "2025-02-24T13:40:04.149951Z",
     "shell.execute_reply.started": "2025-02-24T13:40:04.146185Z"
    },
    "trusted": true
   },
   "outputs": [],
   "source": [
    "mrmr = FeatureWiz_Model(model_type=model_type, \n",
    "                corr_limit=0.7, category_encoders='ordinal', classic=True, \n",
    "                verbose=0)"
   ]
  },
  {
   "cell_type": "code",
   "execution_count": 12,
   "metadata": {
    "execution": {
     "iopub.execute_input": "2025-02-24T13:40:19.553992Z",
     "iopub.status.busy": "2025-02-24T13:40:19.553560Z",
     "iopub.status.idle": "2025-02-24T13:40:19.685664Z",
     "shell.execute_reply": "2025-02-24T13:40:19.683895Z",
     "shell.execute_reply.started": "2025-02-24T13:40:19.553956Z"
    },
    "trusted": true
   },
   "outputs": [
    {
     "name": "stdout",
     "output_type": "stream",
     "text": [
      "\n",
      "Featurewiz Polars started. Model type: Regression\n",
      "SULOV selected Features (12): ['airconditioning', 'area', 'basement', 'bathrooms', 'bedrooms', 'furnishingstatus', 'guestroom', 'hotwaterheating', 'mainroad', 'parking', 'prefarea', 'stories']\n",
      "\n",
      "Recursive XGBoost selected Features (10): ['mainroad', 'stories', 'prefarea', 'bedrooms', 'guestroom', 'furnishingstatus', 'bathrooms', 'airconditioning', 'area', 'hotwaterheating']\n",
      "\n",
      "Featurewiz-Polars feature selection with XGBoost estimator completed.\n",
      "Time taken  = 0.9 seconds\n",
      "\n",
      "Featurewiz-Polars MRMR completed training with XGBoost Model.\n",
      "Total time taken  = 0.9 seconds\n"
     ]
    }
   ],
   "source": [
    "X_transformed, y_transformed = mrmr.fit_transform(X_train, y_train) #np.log(y_train)"
   ]
  },
  {
   "cell_type": "code",
   "execution_count": 13,
   "metadata": {},
   "outputs": [
    {
     "data": {
      "text/html": [
       "<div><style>\n",
       ".dataframe > thead > tr,\n",
       ".dataframe > tbody > tr {\n",
       "  text-align: right;\n",
       "  white-space: pre-wrap;\n",
       "}\n",
       "</style>\n",
       "<small>shape: (2, 10)</small><table border=\"1\" class=\"dataframe\"><thead><tr><th>mainroad</th><th>stories</th><th>prefarea</th><th>bedrooms</th><th>guestroom</th><th>furnishingstatus</th><th>bathrooms</th><th>airconditioning</th><th>area</th><th>hotwaterheating</th></tr><tr><td>f64</td><td>f64</td><td>f64</td><td>f64</td><td>f64</td><td>f64</td><td>f64</td><td>f64</td><td>f64</td><td>f64</td></tr></thead><tbody><tr><td>0.0</td><td>2.0</td><td>0.0</td><td>3.0</td><td>0.0</td><td>2.0</td><td>1.0</td><td>1.0</td><td>3000.0</td><td>1.0</td></tr><tr><td>1.0</td><td>2.0</td><td>0.0</td><td>3.0</td><td>0.0</td><td>2.0</td><td>1.0</td><td>0.0</td><td>4520.0</td><td>1.0</td></tr></tbody></table></div>"
      ],
      "text/plain": [
       "shape: (2, 10)\n",
       "┌──────────┬─────────┬──────────┬──────────┬───┬───────────┬───────────────┬────────┬──────────────┐\n",
       "│ mainroad ┆ stories ┆ prefarea ┆ bedrooms ┆ … ┆ bathrooms ┆ airconditioni ┆ area   ┆ hotwaterheat │\n",
       "│ ---      ┆ ---     ┆ ---      ┆ ---      ┆   ┆ ---       ┆ ng            ┆ ---    ┆ ing          │\n",
       "│ f64      ┆ f64     ┆ f64      ┆ f64      ┆   ┆ f64       ┆ ---           ┆ f64    ┆ ---          │\n",
       "│          ┆         ┆          ┆          ┆   ┆           ┆ f64           ┆        ┆ f64          │\n",
       "╞══════════╪═════════╪══════════╪══════════╪═══╪═══════════╪═══════════════╪════════╪══════════════╡\n",
       "│ 0.0      ┆ 2.0     ┆ 0.0      ┆ 3.0      ┆ … ┆ 1.0       ┆ 1.0           ┆ 3000.0 ┆ 1.0          │\n",
       "│ 1.0      ┆ 2.0     ┆ 0.0      ┆ 3.0      ┆ … ┆ 1.0       ┆ 0.0           ┆ 4520.0 ┆ 1.0          │\n",
       "└──────────┴─────────┴──────────┴──────────┴───┴───────────┴───────────────┴────────┴──────────────┘"
      ]
     },
     "execution_count": 13,
     "metadata": {},
     "output_type": "execute_result"
    }
   ],
   "source": [
    "X_transformed.head(2)"
   ]
  },
  {
   "cell_type": "code",
   "execution_count": 14,
   "metadata": {},
   "outputs": [
    {
     "data": {
      "text/plain": [
       "array([2901780.        , 5042415.        , 4685800.        ,\n",
       "       7195335.        , 3250170.        , 7770327.6       ,\n",
       "       4214700.        , 3057110.        , 5692750.        ,\n",
       "       5370820.        , 5970475.        , 4685800.        ,\n",
       "       4059440.        , 7523868.8       , 4712540.        ,\n",
       "       4972240.        , 3840865.        , 6877885.        ,\n",
       "       6268500.        , 7841400.        , 4420010.        ,\n",
       "       2850750.        , 6018390.        , 4241160.        ,\n",
       "       6811210.        , 6278370.        , 3669890.        ,\n",
       "       5524610.        , 4921000.        , 3656205.        ,\n",
       "       5507530.        , 5488770.        , 4417980.        ,\n",
       "       3790710.        , 2921409.16666667, 3213350.        ,\n",
       "       4129760.83333333, 6482210.        , 4129428.33333333,\n",
       "       3841158.33333333, 3573920.        , 4026505.        ,\n",
       "       3072230.        , 3879890.        , 4970000.        ,\n",
       "       3157980.        , 7268450.        , 3981180.        ,\n",
       "       3211985.        , 6989080.        , 4296670.        ,\n",
       "       3501960.        , 4030670.        , 7926277.8       ,\n",
       "       2923200.        , 4091710.        , 5033700.        ,\n",
       "       4099410.        , 5711650.        , 5742940.        ,\n",
       "       4818660.        , 4765670.        , 5357450.        ,\n",
       "       2505020.        , 5397140.        , 3409945.        ,\n",
       "       3251115.        , 3413095.        , 3731560.        ,\n",
       "       3427550.        , 5787215.        , 6189750.        ,\n",
       "       3124278.5       , 3255905.83333333, 7267050.        ,\n",
       "       3618965.        , 6903050.        , 3070550.        ,\n",
       "       3699010.        , 4591685.        , 4435340.        ,\n",
       "       7742187.6       , 6166440.        , 7644928.2       ,\n",
       "       6263180.        , 7555100.        , 5143145.        ,\n",
       "       7460985.        , 3941746.66666667, 3845030.        ,\n",
       "       3070340.        , 4463900.        , 5910240.        ,\n",
       "       4630290.        , 7878459.4       , 4785375.        ,\n",
       "       4783555.        , 4942000.        , 4347746.66666667,\n",
       "       7083580.        , 2660430.5       , 2307690.        ,\n",
       "       7035910.        , 5103840.        , 5840205.        ,\n",
       "       3938830.        , 5142970.        , 3283805.        ])"
      ]
     },
     "execution_count": 14,
     "metadata": {},
     "output_type": "execute_result"
    }
   ],
   "source": [
    "y_pred = mrmr.predict(X_test)\n",
    "y_pred"
   ]
  },
  {
   "cell_type": "code",
   "execution_count": 15,
   "metadata": {},
   "outputs": [
    {
     "name": "stdout",
     "output_type": "stream",
     "text": [
      "[2660000 6615000 3773000 6300000 3080000 6510000 3143000 1890000 6300000\n",
      " 4830000 9240000 4480000 3430000 6580000 4480000 2233000 2870000 6090000\n",
      " 5425000 7035000 4550000 5110000 5320000 3885000 4830000 9800000 3850000\n",
      " 3710000 8890000 3570000 5943000 5215000 2870000 4270000 1890000 2961000\n",
      " 4200000 6629000 3780000 4340000 5495000 3710000 2310000 2940000 4193000\n",
      " 6475000 5740000 4550000 3500000 7962500 4585000 2485000 3150000 8960000\n",
      " 2100000 5110000 6083000 4795000 5600000 5523000 4900000 4060000 6510000\n",
      " 1820000 6650000 2835000 2940000 3640000 3640000 4410000 6510000 4690000\n",
      " 3118850 2660000 6650000 2653000 6755000 3087000 3220000 6440000 3780000\n",
      " 7840000 6405000 6293000 9870000 8855000 3395000 8400000 3710000 3640000\n",
      " 2940000 5215000 5460000 3640000 8463000 4900000 3360000 8645000 4200000\n",
      " 7490000 2660000 2135000 7350000 6230000 3920000 3990000 4095000 1750000]\n"
     ]
    }
   ],
   "source": [
    "if model_type == 'Classification':\n",
    "    y_test = mrmr.y_encoder.transform(y_test)\n",
    "    print(y_test.to_numpy().ravel())\n",
    "else:\n",
    "    print(y_test.to_numpy().ravel())"
   ]
  },
  {
   "cell_type": "code",
   "execution_count": 16,
   "metadata": {},
   "outputs": [
    {
     "name": "stdout",
     "output_type": "stream",
     "text": [
      "    RMSE = 1235906.152\n",
      "    Norm RMSE = 63%\n",
      "    MAE = 895249.503\n",
      "    WAPE = 18%, Bias = -0.2%\n",
      "    MAPE = 1995%\n",
      "\tHint: high MAPE: try np.log(y) instead of (y).\n",
      "    R-Squared = 60%\n"
     ]
    }
   ],
   "source": [
    "from featurewiz_polars import print_regression_metrics, print_classification_metrics\n",
    "if model_type == 'Classification':\n",
    "    print_classification_metrics(y_test.to_numpy().ravel(), y_pred, verbose=1)\n",
    "else:\n",
    "    print_regression_metrics(y_test.to_numpy().ravel(), y_pred, verbose=1)"
   ]
  },
  {
   "cell_type": "code",
   "execution_count": 17,
   "metadata": {},
   "outputs": [
    {
     "data": {
      "text/plain": [
       "1235906.1521276296"
      ]
     },
     "execution_count": 17,
     "metadata": {},
     "output_type": "execute_result"
    }
   ],
   "source": [
    "from sklearn.metrics import mean_squared_error, mean_absolute_error, r2_score, mean_absolute_percentage_error, mean_squared_log_error\n",
    "np.sqrt(mean_squared_error(y_test, y_pred))"
   ]
  },
  {
   "cell_type": "code",
   "execution_count": 18,
   "metadata": {},
   "outputs": [
    {
     "data": {
      "text/plain": [
       "array([1948361.56160592])"
      ]
     },
     "execution_count": 18,
     "metadata": {},
     "output_type": "execute_result"
    }
   ],
   "source": [
    "np.std(y_test.to_numpy()).ravel()"
   ]
  },
  {
   "cell_type": "code",
   "execution_count": null,
   "metadata": {},
   "outputs": [],
   "source": []
  },
  {
   "cell_type": "code",
   "execution_count": null,
   "metadata": {},
   "outputs": [],
   "source": []
  }
 ],
 "metadata": {
  "kaggle": {
   "accelerator": "none",
   "dataSources": [
    {
     "datasetId": 6688404,
     "sourceId": 10779441,
     "sourceType": "datasetVersion"
    }
   ],
   "dockerImageVersionId": 30839,
   "isGpuEnabled": false,
   "isInternetEnabled": true,
   "language": "python",
   "sourceType": "notebook"
  },
  "kernelspec": {
   "display_name": "base",
   "language": "python",
   "name": "python3"
  },
  "language_info": {
   "codemirror_mode": {
    "name": "ipython",
    "version": 3
   },
   "file_extension": ".py",
   "mimetype": "text/x-python",
   "name": "python",
   "nbconvert_exporter": "python",
   "pygments_lexer": "ipython3",
   "version": "3.12.3"
  }
 },
 "nbformat": 4,
 "nbformat_minor": 4
}
