{
 "cells": [
  {
   "cell_type": "code",
   "execution_count": 1,
   "metadata": {
    "_cell_guid": "b1076dfc-b9ad-4769-8c92-a6c4dae69d19",
    "_uuid": "8f2839f25d086af736a60e9eeb907d3b93b6e0e5",
    "execution": {
     "iopub.execute_input": "2025-02-24T13:35:58.205703Z",
     "iopub.status.busy": "2025-02-24T13:35:58.205350Z",
     "iopub.status.idle": "2025-02-24T13:35:58.222465Z",
     "shell.execute_reply": "2025-02-24T13:35:58.221280Z",
     "shell.execute_reply.started": "2025-02-24T13:35:58.205666Z"
    },
    "trusted": true
   },
   "outputs": [],
   "source": [
    "# This Python 3 environment comes with many helpful analytics libraries installed\n",
    "# It is defined by the kaggle/python Docker image: https://github.com/kaggle/docker-python\n",
    "# For example, here's several helpful packages to load\n",
    "\n",
    "import numpy as np # linear algebra\n",
    "import pandas as pd # data processing, CSV file I/O (e.g. pd.read_csv)\n",
    "\n",
    "# Input data files are available in the read-only \"../input/\" directory\n",
    "# For example, running this (by clicking run or pressing Shift+Enter) will list all files under the input directory\n",
    "\n",
    "import os\n",
    "for dirname, _, filenames in os.walk('/kaggle/input'):\n",
    "    for filename in filenames:\n",
    "        print(os.path.join(dirname, filename))\n",
    "\n",
    "# You can write up to 20GB to the current directory (/kaggle/working/) that gets preserved as output when you create a version using \"Save & Run All\" \n",
    "# You can also write temporary files to /kaggle/temp/, but they won't be saved outside of the current session"
   ]
  },
  {
   "cell_type": "code",
   "execution_count": 2,
   "metadata": {
    "execution": {
     "iopub.execute_input": "2025-02-24T13:35:59.426780Z",
     "iopub.status.busy": "2025-02-24T13:35:59.426417Z",
     "iopub.status.idle": "2025-02-24T13:35:59.431790Z",
     "shell.execute_reply": "2025-02-24T13:35:59.430703Z",
     "shell.execute_reply.started": "2025-02-24T13:35:59.426750Z"
    },
    "trusted": true
   },
   "outputs": [
    {
     "name": "stdout",
     "output_type": "stream",
     "text": [
      "3.12.3 | packaged by conda-forge | (main, Apr 15 2024, 18:20:11) [MSC v.1938 64 bit (AMD64)]\n"
     ]
    }
   ],
   "source": [
    "import sys\n",
    "print(sys.version)"
   ]
  },
  {
   "cell_type": "code",
   "execution_count": 3,
   "metadata": {
    "execution": {
     "iopub.execute_input": "2025-02-24T13:36:00.658335Z",
     "iopub.status.busy": "2025-02-24T13:36:00.657989Z",
     "iopub.status.idle": "2025-02-24T13:36:00.663039Z",
     "shell.execute_reply": "2025-02-24T13:36:00.661657Z",
     "shell.execute_reply.started": "2025-02-24T13:36:00.658310Z"
    },
    "trusted": true
   },
   "outputs": [],
   "source": [
    "#datapath = '/kaggle/input/sales-dataset/'\n",
    "datapath = '../data/'\n",
    "filename = 'sales_data.csv'"
   ]
  },
  {
   "cell_type": "code",
   "execution_count": 4,
   "metadata": {
    "execution": {
     "iopub.execute_input": "2025-02-24T13:36:06.897988Z",
     "iopub.status.busy": "2025-02-24T13:36:06.897594Z",
     "iopub.status.idle": "2025-02-24T13:36:17.759390Z",
     "shell.execute_reply": "2025-02-24T13:36:17.758014Z",
     "shell.execute_reply.started": "2025-02-24T13:36:06.897956Z"
    },
    "trusted": true
   },
   "outputs": [],
   "source": [
    "#!pip install git+https://github.com/AutoViML/featurewiz_polars.git"
   ]
  },
  {
   "cell_type": "code",
   "execution_count": 5,
   "metadata": {
    "execution": {
     "iopub.execute_input": "2025-02-24T13:36:52.650271Z",
     "iopub.status.busy": "2025-02-24T13:36:52.649892Z",
     "iopub.status.idle": "2025-02-24T13:36:53.506405Z",
     "shell.execute_reply": "2025-02-24T13:36:53.505388Z",
     "shell.execute_reply.started": "2025-02-24T13:36:52.650240Z"
    },
    "trusted": true
   },
   "outputs": [
    {
     "name": "stdout",
     "output_type": "stream",
     "text": [
      "(1000, 14)\n"
     ]
    },
    {
     "data": {
      "text/html": [
       "<div><style>\n",
       ".dataframe > thead > tr,\n",
       ".dataframe > tbody > tr {\n",
       "  text-align: right;\n",
       "  white-space: pre-wrap;\n",
       "}\n",
       "</style>\n",
       "<small>shape: (5, 14)</small><table border=\"1\" class=\"dataframe\"><thead><tr><th>Product_ID</th><th>Sale_Date</th><th>Sales_Rep</th><th>Region</th><th>Sales_Amount</th><th>Quantity_Sold</th><th>Product_Category</th><th>Unit_Cost</th><th>Unit_Price</th><th>Customer_Type</th><th>Discount</th><th>Payment_Method</th><th>Sales_Channel</th><th>Region_and_Sales_Rep</th></tr><tr><td>i64</td><td>date</td><td>str</td><td>str</td><td>f64</td><td>i64</td><td>str</td><td>f64</td><td>f64</td><td>str</td><td>f64</td><td>str</td><td>str</td><td>str</td></tr></thead><tbody><tr><td>1052</td><td>2023-02-03</td><td>&quot;Bob&quot;</td><td>&quot;North&quot;</td><td>5053.97</td><td>18</td><td>&quot;Furniture&quot;</td><td>152.75</td><td>267.22</td><td>&quot;Returning&quot;</td><td>0.09</td><td>&quot;Cash&quot;</td><td>&quot;Online&quot;</td><td>&quot;North-Bob&quot;</td></tr><tr><td>1093</td><td>2023-04-21</td><td>&quot;Bob&quot;</td><td>&quot;West&quot;</td><td>4384.02</td><td>17</td><td>&quot;Furniture&quot;</td><td>3816.39</td><td>4209.44</td><td>&quot;Returning&quot;</td><td>0.11</td><td>&quot;Cash&quot;</td><td>&quot;Retail&quot;</td><td>&quot;West-Bob&quot;</td></tr><tr><td>1015</td><td>2023-09-21</td><td>&quot;David&quot;</td><td>&quot;South&quot;</td><td>4631.23</td><td>30</td><td>&quot;Food&quot;</td><td>261.56</td><td>371.4</td><td>&quot;Returning&quot;</td><td>0.2</td><td>&quot;Bank Transfer&quot;</td><td>&quot;Retail&quot;</td><td>&quot;South-David&quot;</td></tr><tr><td>1072</td><td>2023-08-24</td><td>&quot;Bob&quot;</td><td>&quot;South&quot;</td><td>2167.94</td><td>39</td><td>&quot;Clothing&quot;</td><td>4330.03</td><td>4467.75</td><td>&quot;New&quot;</td><td>0.02</td><td>&quot;Credit Card&quot;</td><td>&quot;Retail&quot;</td><td>&quot;South-Bob&quot;</td></tr><tr><td>1061</td><td>2023-03-24</td><td>&quot;Charlie&quot;</td><td>&quot;East&quot;</td><td>3750.2</td><td>13</td><td>&quot;Electronics&quot;</td><td>637.37</td><td>692.71</td><td>&quot;New&quot;</td><td>0.08</td><td>&quot;Credit Card&quot;</td><td>&quot;Online&quot;</td><td>&quot;East-Charlie&quot;</td></tr></tbody></table></div>"
      ],
      "text/plain": [
       "shape: (5, 14)\n",
       "┌────────────┬────────────┬───────────┬────────┬───┬──────────┬────────────┬───────────┬───────────┐\n",
       "│ Product_ID ┆ Sale_Date  ┆ Sales_Rep ┆ Region ┆ … ┆ Discount ┆ Payment_Me ┆ Sales_Cha ┆ Region_an │\n",
       "│ ---        ┆ ---        ┆ ---       ┆ ---    ┆   ┆ ---      ┆ thod       ┆ nnel      ┆ d_Sales_R │\n",
       "│ i64        ┆ date       ┆ str       ┆ str    ┆   ┆ f64      ┆ ---        ┆ ---       ┆ ep        │\n",
       "│            ┆            ┆           ┆        ┆   ┆          ┆ str        ┆ str       ┆ ---       │\n",
       "│            ┆            ┆           ┆        ┆   ┆          ┆            ┆           ┆ str       │\n",
       "╞════════════╪════════════╪═══════════╪════════╪═══╪══════════╪════════════╪═══════════╪═══════════╡\n",
       "│ 1052       ┆ 2023-02-03 ┆ Bob       ┆ North  ┆ … ┆ 0.09     ┆ Cash       ┆ Online    ┆ North-Bob │\n",
       "│ 1093       ┆ 2023-04-21 ┆ Bob       ┆ West   ┆ … ┆ 0.11     ┆ Cash       ┆ Retail    ┆ West-Bob  │\n",
       "│ 1015       ┆ 2023-09-21 ┆ David     ┆ South  ┆ … ┆ 0.2      ┆ Bank       ┆ Retail    ┆ South-Dav │\n",
       "│            ┆            ┆           ┆        ┆   ┆          ┆ Transfer   ┆           ┆ id        │\n",
       "│ 1072       ┆ 2023-08-24 ┆ Bob       ┆ South  ┆ … ┆ 0.02     ┆ Credit     ┆ Retail    ┆ South-Bob │\n",
       "│            ┆            ┆           ┆        ┆   ┆          ┆ Card       ┆           ┆           │\n",
       "│ 1061       ┆ 2023-03-24 ┆ Charlie   ┆ East   ┆ … ┆ 0.08     ┆ Credit     ┆ Online    ┆ East-Char │\n",
       "│            ┆            ┆           ┆        ┆   ┆          ┆ Card       ┆           ┆ lie       │\n",
       "└────────────┴────────────┴───────────┴────────┴───┴──────────┴────────────┴───────────┴───────────┘"
      ]
     },
     "execution_count": 5,
     "metadata": {},
     "output_type": "execute_result"
    }
   ],
   "source": [
    "import polars as pl\n",
    "df = pl.read_csv(datapath+filename, null_values=['NULL','NA'], try_parse_dates=True, infer_schema_length=10000, ignore_errors=True)\n",
    "print(df.shape)\n",
    "df.head()"
   ]
  },
  {
   "cell_type": "code",
   "execution_count": 6,
   "metadata": {
    "execution": {
     "iopub.execute_input": "2025-02-24T13:37:59.426477Z",
     "iopub.status.busy": "2025-02-24T13:37:59.426103Z",
     "iopub.status.idle": "2025-02-24T13:37:59.433289Z",
     "shell.execute_reply": "2025-02-24T13:37:59.432185Z",
     "shell.execute_reply.started": "2025-02-24T13:37:59.426448Z"
    },
    "trusted": true
   },
   "outputs": [
    {
     "data": {
      "text/plain": [
       "12"
      ]
     },
     "execution_count": 6,
     "metadata": {},
     "output_type": "execute_result"
    }
   ],
   "source": [
    "target = 'Sales_Amount'\n",
    "predictors = [x for x in df.columns if x not in [target, 'Quantity_Sold']]\n",
    "len(predictors)"
   ]
  },
  {
   "cell_type": "code",
   "execution_count": 7,
   "metadata": {
    "execution": {
     "iopub.execute_input": "2025-02-24T13:38:34.520465Z",
     "iopub.status.busy": "2025-02-24T13:38:34.520113Z",
     "iopub.status.idle": "2025-02-24T13:38:35.229642Z",
     "shell.execute_reply": "2025-02-24T13:38:35.228679Z",
     "shell.execute_reply.started": "2025-02-24T13:38:34.520440Z"
    },
    "trusted": true
   },
   "outputs": [],
   "source": [
    "from sklearn.model_selection import train_test_split\n",
    "X = df[predictors] \n",
    "y = df[target] \n",
    "X_train, X_test, y_train, y_test = train_test_split(X, y, test_size=0.2, random_state=42)"
   ]
  },
  {
   "cell_type": "code",
   "execution_count": 8,
   "metadata": {
    "execution": {
     "iopub.execute_input": "2025-02-24T13:39:53.410046Z",
     "iopub.status.busy": "2025-02-24T13:39:53.409643Z",
     "iopub.status.idle": "2025-02-24T13:39:54.124367Z",
     "shell.execute_reply": "2025-02-24T13:39:54.123312Z",
     "shell.execute_reply.started": "2025-02-24T13:39:53.410012Z"
    },
    "trusted": true
   },
   "outputs": [
    {
     "name": "stdout",
     "output_type": "stream",
     "text": [
      "Imported featurewiz_polars 0.1.2. Use the following syntax:\n",
      " >> from featurewiz_polars import Featurewiz_MRMR, Featurewiz_MRMR_Model\n",
      " >> wiz = Featurewiz_MRMR(model_type='Classification')\n",
      " >> X_transformed, y_transformed = wiz.fit_transform(X_train, y_train)\n",
      " >> X_test_transformed = wiz.transform(X_test)\n",
      " >> print(wiz.selected_features)\n",
      "    \n"
     ]
    }
   ],
   "source": [
    "from featurewiz_polars import Featurewiz_MRMR, Featurewiz_MRMR_Model"
   ]
  },
  {
   "cell_type": "code",
   "execution_count": 9,
   "metadata": {
    "execution": {
     "iopub.execute_input": "2025-02-24T13:42:10.468173Z",
     "iopub.status.busy": "2025-02-24T13:42:10.467737Z",
     "iopub.status.idle": "2025-02-24T13:42:10.477193Z",
     "shell.execute_reply": "2025-02-24T13:42:10.475984Z",
     "shell.execute_reply.started": "2025-02-24T13:42:10.468142Z"
    },
    "trusted": true
   },
   "outputs": [
    {
     "data": {
      "text/html": [
       "<div><style>\n",
       ".dataframe > thead > tr,\n",
       ".dataframe > tbody > tr {\n",
       "  text-align: right;\n",
       "  white-space: pre-wrap;\n",
       "}\n",
       "</style>\n",
       "<small>shape: (1, 12)</small><table border=\"1\" class=\"dataframe\"><thead><tr><th>Product_ID</th><th>Sale_Date</th><th>Sales_Rep</th><th>Region</th><th>Product_Category</th><th>Unit_Cost</th><th>Unit_Price</th><th>Customer_Type</th><th>Discount</th><th>Payment_Method</th><th>Sales_Channel</th><th>Region_and_Sales_Rep</th></tr><tr><td>u32</td><td>u32</td><td>u32</td><td>u32</td><td>u32</td><td>u32</td><td>u32</td><td>u32</td><td>u32</td><td>u32</td><td>u32</td><td>u32</td></tr></thead><tbody><tr><td>0</td><td>0</td><td>0</td><td>0</td><td>0</td><td>0</td><td>0</td><td>0</td><td>0</td><td>0</td><td>0</td><td>0</td></tr></tbody></table></div>"
      ],
      "text/plain": [
       "shape: (1, 12)\n",
       "┌────────────┬───────────┬───────────┬────────┬───┬──────────┬────────────┬────────────┬───────────┐\n",
       "│ Product_ID ┆ Sale_Date ┆ Sales_Rep ┆ Region ┆ … ┆ Discount ┆ Payment_Me ┆ Sales_Chan ┆ Region_an │\n",
       "│ ---        ┆ ---       ┆ ---       ┆ ---    ┆   ┆ ---      ┆ thod       ┆ nel        ┆ d_Sales_R │\n",
       "│ u32        ┆ u32       ┆ u32       ┆ u32    ┆   ┆ u32      ┆ ---        ┆ ---        ┆ ep        │\n",
       "│            ┆           ┆           ┆        ┆   ┆          ┆ u32        ┆ u32        ┆ ---       │\n",
       "│            ┆           ┆           ┆        ┆   ┆          ┆            ┆            ┆ u32       │\n",
       "╞════════════╪═══════════╪═══════════╪════════╪═══╪══════════╪════════════╪════════════╪═══════════╡\n",
       "│ 0          ┆ 0         ┆ 0         ┆ 0      ┆ … ┆ 0        ┆ 0          ┆ 0          ┆ 0         │\n",
       "└────────────┴───────────┴───────────┴────────┴───┴──────────┴────────────┴────────────┴───────────┘"
      ]
     },
     "execution_count": 9,
     "metadata": {},
     "output_type": "execute_result"
    }
   ],
   "source": [
    "X_train.null_count()"
   ]
  },
  {
   "cell_type": "code",
   "execution_count": 10,
   "metadata": {
    "execution": {
     "iopub.execute_input": "2025-02-24T13:40:04.146211Z",
     "iopub.status.busy": "2025-02-24T13:40:04.145816Z",
     "iopub.status.idle": "2025-02-24T13:40:04.151100Z",
     "shell.execute_reply": "2025-02-24T13:40:04.149951Z",
     "shell.execute_reply.started": "2025-02-24T13:40:04.146185Z"
    },
    "trusted": true
   },
   "outputs": [],
   "source": [
    "mrmr = Featurewiz_MRMR_Model(model_type=\"Regression\", \n",
    "                corr_threshold=0.7, encoding_type='onehot', classic=True, \n",
    "                verbose=0)"
   ]
  },
  {
   "cell_type": "code",
   "execution_count": 11,
   "metadata": {
    "execution": {
     "iopub.execute_input": "2025-02-24T13:40:19.553992Z",
     "iopub.status.busy": "2025-02-24T13:40:19.553560Z",
     "iopub.status.idle": "2025-02-24T13:40:19.685664Z",
     "shell.execute_reply": "2025-02-24T13:40:19.683895Z",
     "shell.execute_reply.started": "2025-02-24T13:40:19.553956Z"
    },
    "trusted": true
   },
   "outputs": [
    {
     "name": "stdout",
     "output_type": "stream",
     "text": [
      "\n",
      "Featurewiz Polars started. Model type: Regression\n",
      "SULOV selected Features (48): ['Customer_Type_New', 'Customer_Type_Returning', 'Discount', 'Payment_Method_Bank Transfer', 'Payment_Method_Cash', 'Payment_Method_Credit Card', 'Product_Category_Clothing', 'Product_Category_Electronics', 'Product_Category_Food', 'Product_Category_Furniture', 'Product_ID', 'Region_East', 'Region_North', 'Region_South', 'Region_West', 'Region_and_Sales_Rep_East-Alice', 'Region_and_Sales_Rep_East-Bob', 'Region_and_Sales_Rep_East-Charlie', 'Region_and_Sales_Rep_East-David', 'Region_and_Sales_Rep_East-Eve', 'Region_and_Sales_Rep_North-Alice', 'Region_and_Sales_Rep_North-Bob', 'Region_and_Sales_Rep_North-Charlie', 'Region_and_Sales_Rep_North-David', 'Region_and_Sales_Rep_North-Eve', 'Region_and_Sales_Rep_South-Alice', 'Region_and_Sales_Rep_South-Bob', 'Region_and_Sales_Rep_South-Charlie', 'Region_and_Sales_Rep_South-David', 'Region_and_Sales_Rep_South-Eve', 'Region_and_Sales_Rep_West-Alice', 'Region_and_Sales_Rep_West-Bob', 'Region_and_Sales_Rep_West-Charlie', 'Region_and_Sales_Rep_West-David', 'Region_and_Sales_Rep_West-Eve', 'Sales_Channel_Online', 'Sales_Channel_Retail', 'Sales_Rep_Alice', 'Sales_Rep_Bob', 'Sales_Rep_Charlie', 'Sales_Rep_David', 'Sales_Rep_Eve', 'Unit_Price', 'dt_Sale_Date_day', 'dt_Sale_Date_month', 'dt_Sale_Date_ordinal_day', 'dt_Sale_Date_weekday', 'dt_Sale_Date_year']\n",
      "\n",
      "Recursive XGBoost selected Features (41): ['Discount', 'Payment_Method_Bank Transfer', 'Payment_Method_Cash', 'Payment_Method_Credit Card', 'Product_Category_Clothing', 'Product_Category_Electronics', 'Product_Category_Food', 'Product_Category_Furniture', 'Product_ID', 'Region_East', 'Region_North', 'Region_South', 'Region_West', 'Region_and_Sales_Rep_East-Alice', 'Region_and_Sales_Rep_East-Bob', 'Region_and_Sales_Rep_East-Charlie', 'Region_and_Sales_Rep_East-Eve', 'Region_and_Sales_Rep_North-Alice', 'Region_and_Sales_Rep_North-Bob', 'Region_and_Sales_Rep_North-David', 'Region_and_Sales_Rep_North-Eve', 'Region_and_Sales_Rep_South-Bob', 'Region_and_Sales_Rep_South-Charlie', 'Region_and_Sales_Rep_South-David', 'Region_and_Sales_Rep_South-Eve', 'Region_and_Sales_Rep_West-Alice', 'Region_and_Sales_Rep_West-Bob', 'Region_and_Sales_Rep_West-Charlie', 'Region_and_Sales_Rep_West-David', 'Sales_Channel_Online', 'Sales_Channel_Retail', 'Sales_Rep_Alice', 'Sales_Rep_Bob', 'Sales_Rep_Charlie', 'Sales_Rep_David', 'Sales_Rep_Eve', 'Unit_Price', 'dt_Sale_Date_day', 'dt_Sale_Date_month', 'dt_Sale_Date_ordinal_day', 'dt_Sale_Date_weekday']\n",
      "\n",
      "Featurewiz Polars MRMR completed. Time taken  = 2.7 seconds\n"
     ]
    }
   ],
   "source": [
    "X_transformed, y_transformed = mrmr.fit_transform(X_train, y_train)"
   ]
  },
  {
   "cell_type": "code",
   "execution_count": 19,
   "metadata": {},
   "outputs": [
    {
     "data": {
      "text/html": [
       "<div><style>\n",
       ".dataframe > thead > tr,\n",
       ".dataframe > tbody > tr {\n",
       "  text-align: right;\n",
       "  white-space: pre-wrap;\n",
       "}\n",
       "</style>\n",
       "<small>shape: (2, 12)</small><table border=\"1\" class=\"dataframe\"><thead><tr><th>Product_ID</th><th>Sale_Date</th><th>Sales_Rep</th><th>Region</th><th>Product_Category</th><th>Unit_Cost</th><th>Unit_Price</th><th>Customer_Type</th><th>Discount</th><th>Payment_Method</th><th>Sales_Channel</th><th>Region_and_Sales_Rep</th></tr><tr><td>i64</td><td>date</td><td>str</td><td>str</td><td>str</td><td>f64</td><td>f64</td><td>str</td><td>f64</td><td>str</td><td>str</td><td>str</td></tr></thead><tbody><tr><td>1049</td><td>2023-05-17</td><td>&quot;Alice&quot;</td><td>&quot;West&quot;</td><td>&quot;Furniture&quot;</td><td>3290.89</td><td>3317.75</td><td>&quot;Returning&quot;</td><td>0.17</td><td>&quot;Bank Transfer&quot;</td><td>&quot;Online&quot;</td><td>&quot;West-Alice&quot;</td></tr><tr><td>1001</td><td>2023-04-27</td><td>&quot;Eve&quot;</td><td>&quot;East&quot;</td><td>&quot;Electronics&quot;</td><td>1330.62</td><td>1543.69</td><td>&quot;New&quot;</td><td>0.27</td><td>&quot;Credit Card&quot;</td><td>&quot;Online&quot;</td><td>&quot;East-Eve&quot;</td></tr></tbody></table></div>"
      ],
      "text/plain": [
       "shape: (2, 12)\n",
       "┌────────────┬────────────┬───────────┬────────┬───┬──────────┬────────────┬───────────┬───────────┐\n",
       "│ Product_ID ┆ Sale_Date  ┆ Sales_Rep ┆ Region ┆ … ┆ Discount ┆ Payment_Me ┆ Sales_Cha ┆ Region_an │\n",
       "│ ---        ┆ ---        ┆ ---       ┆ ---    ┆   ┆ ---      ┆ thod       ┆ nnel      ┆ d_Sales_R │\n",
       "│ i64        ┆ date       ┆ str       ┆ str    ┆   ┆ f64      ┆ ---        ┆ ---       ┆ ep        │\n",
       "│            ┆            ┆           ┆        ┆   ┆          ┆ str        ┆ str       ┆ ---       │\n",
       "│            ┆            ┆           ┆        ┆   ┆          ┆            ┆           ┆ str       │\n",
       "╞════════════╪════════════╪═══════════╪════════╪═══╪══════════╪════════════╪═══════════╪═══════════╡\n",
       "│ 1049       ┆ 2023-05-17 ┆ Alice     ┆ West   ┆ … ┆ 0.17     ┆ Bank       ┆ Online    ┆ West-Alic │\n",
       "│            ┆            ┆           ┆        ┆   ┆          ┆ Transfer   ┆           ┆ e         │\n",
       "│ 1001       ┆ 2023-04-27 ┆ Eve       ┆ East   ┆ … ┆ 0.27     ┆ Credit     ┆ Online    ┆ East-Eve  │\n",
       "│            ┆            ┆           ┆        ┆   ┆          ┆ Card       ┆           ┆           │\n",
       "└────────────┴────────────┴───────────┴────────┴───┴──────────┴────────────┴───────────┴───────────┘"
      ]
     },
     "execution_count": 19,
     "metadata": {},
     "output_type": "execute_result"
    }
   ],
   "source": [
    "X_train.head(2)"
   ]
  },
  {
   "cell_type": "code",
   "execution_count": 18,
   "metadata": {},
   "outputs": [
    {
     "data": {
      "text/html": [
       "<div><style>\n",
       ".dataframe > thead > tr,\n",
       ".dataframe > tbody > tr {\n",
       "  text-align: right;\n",
       "  white-space: pre-wrap;\n",
       "}\n",
       "</style>\n",
       "<small>shape: (2, 41)</small><table border=\"1\" class=\"dataframe\"><thead><tr><th>Discount</th><th>Payment_Method_Bank Transfer</th><th>Payment_Method_Cash</th><th>Payment_Method_Credit Card</th><th>Product_Category_Clothing</th><th>Product_Category_Electronics</th><th>Product_Category_Food</th><th>Product_Category_Furniture</th><th>Product_ID</th><th>Region_East</th><th>Region_North</th><th>Region_South</th><th>Region_West</th><th>Region_and_Sales_Rep_East-Alice</th><th>Region_and_Sales_Rep_East-Bob</th><th>Region_and_Sales_Rep_East-Charlie</th><th>Region_and_Sales_Rep_East-Eve</th><th>Region_and_Sales_Rep_North-Alice</th><th>Region_and_Sales_Rep_North-Bob</th><th>Region_and_Sales_Rep_North-David</th><th>Region_and_Sales_Rep_North-Eve</th><th>Region_and_Sales_Rep_South-Bob</th><th>Region_and_Sales_Rep_South-Charlie</th><th>Region_and_Sales_Rep_South-David</th><th>Region_and_Sales_Rep_South-Eve</th><th>Region_and_Sales_Rep_West-Alice</th><th>Region_and_Sales_Rep_West-Bob</th><th>Region_and_Sales_Rep_West-Charlie</th><th>Region_and_Sales_Rep_West-David</th><th>Sales_Channel_Online</th><th>Sales_Channel_Retail</th><th>Sales_Rep_Alice</th><th>Sales_Rep_Bob</th><th>Sales_Rep_Charlie</th><th>Sales_Rep_David</th><th>Sales_Rep_Eve</th><th>Unit_Price</th><th>dt_Sale_Date_day</th><th>dt_Sale_Date_month</th><th>dt_Sale_Date_ordinal_day</th><th>dt_Sale_Date_weekday</th></tr><tr><td>f64</td><td>u8</td><td>u8</td><td>u8</td><td>u8</td><td>u8</td><td>u8</td><td>u8</td><td>f64</td><td>u8</td><td>u8</td><td>u8</td><td>u8</td><td>u8</td><td>u8</td><td>u8</td><td>u8</td><td>u8</td><td>u8</td><td>u8</td><td>u8</td><td>u8</td><td>u8</td><td>u8</td><td>u8</td><td>u8</td><td>u8</td><td>u8</td><td>u8</td><td>u8</td><td>u8</td><td>u8</td><td>u8</td><td>u8</td><td>u8</td><td>u8</td><td>f64</td><td>i8</td><td>i8</td><td>i16</td><td>i8</td></tr></thead><tbody><tr><td>0.17</td><td>1</td><td>0</td><td>0</td><td>0</td><td>0</td><td>0</td><td>1</td><td>1049.0</td><td>0</td><td>0</td><td>0</td><td>1</td><td>0</td><td>0</td><td>0</td><td>0</td><td>0</td><td>0</td><td>0</td><td>0</td><td>0</td><td>0</td><td>0</td><td>0</td><td>1</td><td>0</td><td>0</td><td>0</td><td>1</td><td>0</td><td>1</td><td>0</td><td>0</td><td>0</td><td>0</td><td>3317.75</td><td>17</td><td>5</td><td>137</td><td>3</td></tr><tr><td>0.27</td><td>0</td><td>0</td><td>1</td><td>0</td><td>1</td><td>0</td><td>0</td><td>1001.0</td><td>1</td><td>0</td><td>0</td><td>0</td><td>0</td><td>0</td><td>0</td><td>1</td><td>0</td><td>0</td><td>0</td><td>0</td><td>0</td><td>0</td><td>0</td><td>0</td><td>0</td><td>0</td><td>0</td><td>0</td><td>1</td><td>0</td><td>0</td><td>0</td><td>0</td><td>0</td><td>1</td><td>1543.69</td><td>27</td><td>4</td><td>117</td><td>4</td></tr></tbody></table></div>"
      ],
      "text/plain": [
       "shape: (2, 41)\n",
       "┌──────────┬───────────┬───────────┬───────────┬───┬───────────┬───────────┬───────────┬───────────┐\n",
       "│ Discount ┆ Payment_M ┆ Payment_M ┆ Payment_M ┆ … ┆ dt_Sale_D ┆ dt_Sale_D ┆ dt_Sale_D ┆ dt_Sale_D │\n",
       "│ ---      ┆ ethod_Ban ┆ ethod_Cas ┆ ethod_Cre ┆   ┆ ate_day   ┆ ate_month ┆ ate_ordin ┆ ate_weekd │\n",
       "│ f64      ┆ k         ┆ h         ┆ dit Card  ┆   ┆ ---       ┆ ---       ┆ al_day    ┆ ay        │\n",
       "│          ┆ Transfer  ┆ ---       ┆ ---       ┆   ┆ i8        ┆ i8        ┆ ---       ┆ ---       │\n",
       "│          ┆ ---       ┆ u8        ┆ u8        ┆   ┆           ┆           ┆ i16       ┆ i8        │\n",
       "│          ┆ u8        ┆           ┆           ┆   ┆           ┆           ┆           ┆           │\n",
       "╞══════════╪═══════════╪═══════════╪═══════════╪═══╪═══════════╪═══════════╪═══════════╪═══════════╡\n",
       "│ 0.17     ┆ 1         ┆ 0         ┆ 0         ┆ … ┆ 17        ┆ 5         ┆ 137       ┆ 3         │\n",
       "│ 0.27     ┆ 0         ┆ 0         ┆ 1         ┆ … ┆ 27        ┆ 4         ┆ 117       ┆ 4         │\n",
       "└──────────┴───────────┴───────────┴───────────┴───┴───────────┴───────────┴───────────┴───────────┘"
      ]
     },
     "execution_count": 18,
     "metadata": {},
     "output_type": "execute_result"
    }
   ],
   "source": [
    "X_transformed.head(2)"
   ]
  },
  {
   "cell_type": "code",
   "execution_count": 17,
   "metadata": {},
   "outputs": [
    {
     "data": {
      "text/html": [
       "<div><style>\n",
       ".dataframe > thead > tr,\n",
       ".dataframe > tbody > tr {\n",
       "  text-align: right;\n",
       "  white-space: pre-wrap;\n",
       "}\n",
       "</style>\n",
       "<small>shape: (2, 41)</small><table border=\"1\" class=\"dataframe\"><thead><tr><th>Discount</th><th>Payment_Method_Bank Transfer</th><th>Payment_Method_Cash</th><th>Payment_Method_Credit Card</th><th>Product_Category_Clothing</th><th>Product_Category_Electronics</th><th>Product_Category_Food</th><th>Product_Category_Furniture</th><th>Product_ID</th><th>Region_East</th><th>Region_North</th><th>Region_South</th><th>Region_West</th><th>Region_and_Sales_Rep_East-Alice</th><th>Region_and_Sales_Rep_East-Bob</th><th>Region_and_Sales_Rep_East-Charlie</th><th>Region_and_Sales_Rep_East-Eve</th><th>Region_and_Sales_Rep_North-Alice</th><th>Region_and_Sales_Rep_North-Bob</th><th>Region_and_Sales_Rep_North-David</th><th>Region_and_Sales_Rep_North-Eve</th><th>Region_and_Sales_Rep_South-Bob</th><th>Region_and_Sales_Rep_South-Charlie</th><th>Region_and_Sales_Rep_South-David</th><th>Region_and_Sales_Rep_South-Eve</th><th>Region_and_Sales_Rep_West-Alice</th><th>Region_and_Sales_Rep_West-Bob</th><th>Region_and_Sales_Rep_West-Charlie</th><th>Region_and_Sales_Rep_West-David</th><th>Sales_Channel_Online</th><th>Sales_Channel_Retail</th><th>Sales_Rep_Alice</th><th>Sales_Rep_Bob</th><th>Sales_Rep_Charlie</th><th>Sales_Rep_David</th><th>Sales_Rep_Eve</th><th>Unit_Price</th><th>dt_Sale_Date_day</th><th>dt_Sale_Date_month</th><th>dt_Sale_Date_ordinal_day</th><th>dt_Sale_Date_weekday</th></tr><tr><td>f64</td><td>u8</td><td>u8</td><td>u8</td><td>u8</td><td>u8</td><td>u8</td><td>u8</td><td>f64</td><td>u8</td><td>u8</td><td>u8</td><td>u8</td><td>u8</td><td>u8</td><td>u8</td><td>u8</td><td>u8</td><td>u8</td><td>u8</td><td>u8</td><td>u8</td><td>u8</td><td>u8</td><td>u8</td><td>u8</td><td>u8</td><td>u8</td><td>u8</td><td>u8</td><td>u8</td><td>u8</td><td>u8</td><td>u8</td><td>u8</td><td>u8</td><td>f64</td><td>i8</td><td>i8</td><td>i16</td><td>i8</td></tr></thead><tbody><tr><td>0.21</td><td>0</td><td>1</td><td>0</td><td>0</td><td>0</td><td>1</td><td>0</td><td>1100.0</td><td>0</td><td>0</td><td>0</td><td>1</td><td>0</td><td>0</td><td>0</td><td>0</td><td>0</td><td>0</td><td>0</td><td>0</td><td>0</td><td>0</td><td>0</td><td>0</td><td>0</td><td>1</td><td>0</td><td>0</td><td>0</td><td>1</td><td>0</td><td>1</td><td>0</td><td>0</td><td>0</td><td>3607.15</td><td>23</td><td>5</td><td>143</td><td>2</td></tr><tr><td>0.16</td><td>0</td><td>1</td><td>0</td><td>1</td><td>0</td><td>0</td><td>0</td><td>1031.0</td><td>1</td><td>0</td><td>0</td><td>0</td><td>0</td><td>0</td><td>0</td><td>1</td><td>0</td><td>0</td><td>0</td><td>0</td><td>0</td><td>0</td><td>0</td><td>0</td><td>0</td><td>0</td><td>0</td><td>0</td><td>0</td><td>1</td><td>0</td><td>0</td><td>0</td><td>0</td><td>1</td><td>3711.47</td><td>23</td><td>3</td><td>82</td><td>4</td></tr></tbody></table></div>"
      ],
      "text/plain": [
       "shape: (2, 41)\n",
       "┌──────────┬───────────┬───────────┬───────────┬───┬───────────┬───────────┬───────────┬───────────┐\n",
       "│ Discount ┆ Payment_M ┆ Payment_M ┆ Payment_M ┆ … ┆ dt_Sale_D ┆ dt_Sale_D ┆ dt_Sale_D ┆ dt_Sale_D │\n",
       "│ ---      ┆ ethod_Ban ┆ ethod_Cas ┆ ethod_Cre ┆   ┆ ate_day   ┆ ate_month ┆ ate_ordin ┆ ate_weekd │\n",
       "│ f64      ┆ k         ┆ h         ┆ dit Card  ┆   ┆ ---       ┆ ---       ┆ al_day    ┆ ay        │\n",
       "│          ┆ Transfer  ┆ ---       ┆ ---       ┆   ┆ i8        ┆ i8        ┆ ---       ┆ ---       │\n",
       "│          ┆ ---       ┆ u8        ┆ u8        ┆   ┆           ┆           ┆ i16       ┆ i8        │\n",
       "│          ┆ u8        ┆           ┆           ┆   ┆           ┆           ┆           ┆           │\n",
       "╞══════════╪═══════════╪═══════════╪═══════════╪═══╪═══════════╪═══════════╪═══════════╪═══════════╡\n",
       "│ 0.21     ┆ 0         ┆ 1         ┆ 0         ┆ … ┆ 23        ┆ 5         ┆ 143       ┆ 2         │\n",
       "│ 0.16     ┆ 0         ┆ 1         ┆ 0         ┆ … ┆ 23        ┆ 3         ┆ 82        ┆ 4         │\n",
       "└──────────┴───────────┴───────────┴───────────┴───┴───────────┴───────────┴───────────┴───────────┘"
      ]
     },
     "execution_count": 17,
     "metadata": {},
     "output_type": "execute_result"
    }
   ],
   "source": [
    "X_test_transformed = mrmr.transform(X_test)\n",
    "X_test_transformed.head(2)"
   ]
  },
  {
   "cell_type": "code",
   "execution_count": 13,
   "metadata": {},
   "outputs": [],
   "source": [
    "y_pred = mrmr.predict(X_test)"
   ]
  },
  {
   "cell_type": "code",
   "execution_count": 16,
   "metadata": {},
   "outputs": [
    {
     "name": "stdout",
     "output_type": "stream",
     "text": [
      "    RMSE = 3177.442\n",
      "    Norm RMSE = 105%\n",
      "    MAE = 2773.085\n",
      "    WAPE = 52%, Bias = 5.9%\n",
      "    MAPE = 20047%\n",
      "\tHint: high MAPE: try np.log(y) instead of (y).\n",
      "    R-Squared = -9%\n"
     ]
    },
    {
     "data": {
      "text/plain": [
       "3177.4422973241894"
      ]
     },
     "execution_count": 16,
     "metadata": {},
     "output_type": "execute_result"
    }
   ],
   "source": [
    "from featurewiz_polars import print_regression_metrics\n",
    "print_regression_metrics(y_test.to_numpy().ravel(), y_pred, verbose=1)"
   ]
  },
  {
   "cell_type": "code",
   "execution_count": null,
   "metadata": {},
   "outputs": [],
   "source": []
  }
 ],
 "metadata": {
  "kaggle": {
   "accelerator": "none",
   "dataSources": [
    {
     "datasetId": 6688404,
     "sourceId": 10779441,
     "sourceType": "datasetVersion"
    }
   ],
   "dockerImageVersionId": 30839,
   "isGpuEnabled": false,
   "isInternetEnabled": true,
   "language": "python",
   "sourceType": "notebook"
  },
  "kernelspec": {
   "display_name": "base",
   "language": "python",
   "name": "python3"
  },
  "language_info": {
   "codemirror_mode": {
    "name": "ipython",
    "version": 3
   },
   "file_extension": ".py",
   "mimetype": "text/x-python",
   "name": "python",
   "nbconvert_exporter": "python",
   "pygments_lexer": "ipython3",
   "version": "3.12.3"
  }
 },
 "nbformat": 4,
 "nbformat_minor": 4
}
