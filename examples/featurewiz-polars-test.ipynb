{
 "cells": [
  {
   "cell_type": "markdown",
   "metadata": {
    "_cell_guid": "b1076dfc-b9ad-4769-8c92-a6c4dae69d19",
    "_uuid": "8f2839f25d086af736a60e9eeb907d3b93b6e0e5",
    "execution": {
     "iopub.execute_input": "2025-02-24T13:35:58.205703Z",
     "iopub.status.busy": "2025-02-24T13:35:58.205350Z",
     "iopub.status.idle": "2025-02-24T13:35:58.222465Z",
     "shell.execute_reply": "2025-02-24T13:35:58.221280Z",
     "shell.execute_reply.started": "2025-02-24T13:35:58.205666Z"
    },
    "trusted": true
   },
   "source": [
    "[![Open In Colab](https://colab.research.google.com/assets/colab-badge.svg)](https://colab.research.google.com/github/AutoViML/featurewiz_polars/blob/main/examples/featurewiz-polars-test.ipynb)"
   ]
  },
  {
   "cell_type": "code",
   "execution_count": null,
   "metadata": {},
   "outputs": [],
   "source": [
    "# This Python 3 environment comes with many helpful analytics libraries installed\n",
    "# It is defined by the kaggle/python Docker image: https://github.com/kaggle/docker-python\n",
    "# For example, here's several helpful packages to load\n",
    "\n",
    "import numpy as np # linear algebra\n",
    "import pandas as pd # data processing, CSV file I/O (e.g. pd.read_csv)\n",
    "\n",
    "# Input data files are available in the read-only \"../input/\" directory\n",
    "# For example, running this (by clicking run or pressing Shift+Enter) will list all files under the input directory\n",
    "\n",
    "import os\n",
    "for dirname, _, filenames in os.walk('/kaggle/input'):\n",
    "    for filename in filenames:\n",
    "        print(os.path.join(dirname, filename))\n",
    "\n",
    "# You can write up to 20GB to the current directory (/kaggle/working/) that gets preserved as output when you create a version using \"Save & Run All\" \n",
    "# You can also write temporary files to /kaggle/temp/, but they won't be saved outside of the current session"
   ]
  },
  {
   "cell_type": "code",
   "execution_count": 2,
   "metadata": {
    "execution": {
     "iopub.execute_input": "2025-02-24T13:35:59.426780Z",
     "iopub.status.busy": "2025-02-24T13:35:59.426417Z",
     "iopub.status.idle": "2025-02-24T13:35:59.431790Z",
     "shell.execute_reply": "2025-02-24T13:35:59.430703Z",
     "shell.execute_reply.started": "2025-02-24T13:35:59.426750Z"
    },
    "trusted": true
   },
   "outputs": [
    {
     "name": "stdout",
     "output_type": "stream",
     "text": [
      "3.12.3 | packaged by conda-forge | (main, Apr 15 2024, 18:20:11) [MSC v.1938 64 bit (AMD64)]\n"
     ]
    }
   ],
   "source": [
    "import sys\n",
    "print(sys.version)"
   ]
  },
  {
   "cell_type": "code",
   "execution_count": 3,
   "metadata": {
    "execution": {
     "iopub.execute_input": "2025-02-24T13:36:00.658335Z",
     "iopub.status.busy": "2025-02-24T13:36:00.657989Z",
     "iopub.status.idle": "2025-02-24T13:36:00.663039Z",
     "shell.execute_reply": "2025-02-24T13:36:00.661657Z",
     "shell.execute_reply.started": "2025-02-24T13:36:00.658310Z"
    },
    "trusted": true
   },
   "outputs": [],
   "source": [
    "#datapath = '/kaggle/input/sales-dataset/'\n",
    "datapath = '../../../Documents/Ram/data_sets/'\n",
    "filename = 'sales_data.csv'"
   ]
  },
  {
   "cell_type": "code",
   "execution_count": 4,
   "metadata": {
    "execution": {
     "iopub.execute_input": "2025-02-24T13:36:06.897988Z",
     "iopub.status.busy": "2025-02-24T13:36:06.897594Z",
     "iopub.status.idle": "2025-02-24T13:36:17.759390Z",
     "shell.execute_reply": "2025-02-24T13:36:17.758014Z",
     "shell.execute_reply.started": "2025-02-24T13:36:06.897956Z"
    },
    "trusted": true
   },
   "outputs": [],
   "source": [
    "#!pip install git+https://github.com/AutoViML/featurewiz_polars.git"
   ]
  },
  {
   "cell_type": "code",
   "execution_count": 5,
   "metadata": {
    "execution": {
     "iopub.execute_input": "2025-02-24T13:36:52.650271Z",
     "iopub.status.busy": "2025-02-24T13:36:52.649892Z",
     "iopub.status.idle": "2025-02-24T13:36:53.506405Z",
     "shell.execute_reply": "2025-02-24T13:36:53.505388Z",
     "shell.execute_reply.started": "2025-02-24T13:36:52.650240Z"
    },
    "trusted": true
   },
   "outputs": [
    {
     "name": "stdout",
     "output_type": "stream",
     "text": [
      "(1000, 14)\n"
     ]
    },
    {
     "data": {
      "text/html": [
       "<div><style>\n",
       ".dataframe > thead > tr,\n",
       ".dataframe > tbody > tr {\n",
       "  text-align: right;\n",
       "  white-space: pre-wrap;\n",
       "}\n",
       "</style>\n",
       "<small>shape: (5, 14)</small><table border=\"1\" class=\"dataframe\"><thead><tr><th>Product_ID</th><th>Sale_Date</th><th>Sales_Rep</th><th>Region</th><th>Sales_Amount</th><th>Quantity_Sold</th><th>Product_Category</th><th>Unit_Cost</th><th>Unit_Price</th><th>Customer_Type</th><th>Discount</th><th>Payment_Method</th><th>Sales_Channel</th><th>Region_and_Sales_Rep</th></tr><tr><td>i64</td><td>date</td><td>str</td><td>str</td><td>f64</td><td>i64</td><td>str</td><td>f64</td><td>f64</td><td>str</td><td>f64</td><td>str</td><td>str</td><td>str</td></tr></thead><tbody><tr><td>1052</td><td>2023-02-03</td><td>&quot;Bob&quot;</td><td>&quot;North&quot;</td><td>5053.97</td><td>18</td><td>&quot;Furniture&quot;</td><td>152.75</td><td>267.22</td><td>&quot;Returning&quot;</td><td>0.09</td><td>&quot;Cash&quot;</td><td>&quot;Online&quot;</td><td>&quot;North-Bob&quot;</td></tr><tr><td>1093</td><td>2023-04-21</td><td>&quot;Bob&quot;</td><td>&quot;West&quot;</td><td>4384.02</td><td>17</td><td>&quot;Furniture&quot;</td><td>3816.39</td><td>4209.44</td><td>&quot;Returning&quot;</td><td>0.11</td><td>&quot;Cash&quot;</td><td>&quot;Retail&quot;</td><td>&quot;West-Bob&quot;</td></tr><tr><td>1015</td><td>2023-09-21</td><td>&quot;David&quot;</td><td>&quot;South&quot;</td><td>4631.23</td><td>30</td><td>&quot;Food&quot;</td><td>261.56</td><td>371.4</td><td>&quot;Returning&quot;</td><td>0.2</td><td>&quot;Bank Transfer&quot;</td><td>&quot;Retail&quot;</td><td>&quot;South-David&quot;</td></tr><tr><td>1072</td><td>2023-08-24</td><td>&quot;Bob&quot;</td><td>&quot;South&quot;</td><td>2167.94</td><td>39</td><td>&quot;Clothing&quot;</td><td>4330.03</td><td>4467.75</td><td>&quot;New&quot;</td><td>0.02</td><td>&quot;Credit Card&quot;</td><td>&quot;Retail&quot;</td><td>&quot;South-Bob&quot;</td></tr><tr><td>1061</td><td>2023-03-24</td><td>&quot;Charlie&quot;</td><td>&quot;East&quot;</td><td>3750.2</td><td>13</td><td>&quot;Electronics&quot;</td><td>637.37</td><td>692.71</td><td>&quot;New&quot;</td><td>0.08</td><td>&quot;Credit Card&quot;</td><td>&quot;Online&quot;</td><td>&quot;East-Charlie&quot;</td></tr></tbody></table></div>"
      ],
      "text/plain": [
       "shape: (5, 14)\n",
       "┌────────────┬────────────┬───────────┬────────┬───┬──────────┬────────────┬───────────┬───────────┐\n",
       "│ Product_ID ┆ Sale_Date  ┆ Sales_Rep ┆ Region ┆ … ┆ Discount ┆ Payment_Me ┆ Sales_Cha ┆ Region_an │\n",
       "│ ---        ┆ ---        ┆ ---       ┆ ---    ┆   ┆ ---      ┆ thod       ┆ nnel      ┆ d_Sales_R │\n",
       "│ i64        ┆ date       ┆ str       ┆ str    ┆   ┆ f64      ┆ ---        ┆ ---       ┆ ep        │\n",
       "│            ┆            ┆           ┆        ┆   ┆          ┆ str        ┆ str       ┆ ---       │\n",
       "│            ┆            ┆           ┆        ┆   ┆          ┆            ┆           ┆ str       │\n",
       "╞════════════╪════════════╪═══════════╪════════╪═══╪══════════╪════════════╪═══════════╪═══════════╡\n",
       "│ 1052       ┆ 2023-02-03 ┆ Bob       ┆ North  ┆ … ┆ 0.09     ┆ Cash       ┆ Online    ┆ North-Bob │\n",
       "│ 1093       ┆ 2023-04-21 ┆ Bob       ┆ West   ┆ … ┆ 0.11     ┆ Cash       ┆ Retail    ┆ West-Bob  │\n",
       "│ 1015       ┆ 2023-09-21 ┆ David     ┆ South  ┆ … ┆ 0.2      ┆ Bank       ┆ Retail    ┆ South-Dav │\n",
       "│            ┆            ┆           ┆        ┆   ┆          ┆ Transfer   ┆           ┆ id        │\n",
       "│ 1072       ┆ 2023-08-24 ┆ Bob       ┆ South  ┆ … ┆ 0.02     ┆ Credit     ┆ Retail    ┆ South-Bob │\n",
       "│            ┆            ┆           ┆        ┆   ┆          ┆ Card       ┆           ┆           │\n",
       "│ 1061       ┆ 2023-03-24 ┆ Charlie   ┆ East   ┆ … ┆ 0.08     ┆ Credit     ┆ Online    ┆ East-Char │\n",
       "│            ┆            ┆           ┆        ┆   ┆          ┆ Card       ┆           ┆ lie       │\n",
       "└────────────┴────────────┴───────────┴────────┴───┴──────────┴────────────┴───────────┴───────────┘"
      ]
     },
     "execution_count": 5,
     "metadata": {},
     "output_type": "execute_result"
    }
   ],
   "source": [
    "import polars as pl\n",
    "df = pl.read_csv(datapath+filename, null_values=['NULL','NA'], try_parse_dates=True, infer_schema_length=10000, ignore_errors=True)\n",
    "print(df.shape)\n",
    "df.head()"
   ]
  },
  {
   "cell_type": "code",
   "execution_count": 7,
   "metadata": {
    "execution": {
     "iopub.execute_input": "2025-02-24T13:37:59.426477Z",
     "iopub.status.busy": "2025-02-24T13:37:59.426103Z",
     "iopub.status.idle": "2025-02-24T13:37:59.433289Z",
     "shell.execute_reply": "2025-02-24T13:37:59.432185Z",
     "shell.execute_reply.started": "2025-02-24T13:37:59.426448Z"
    },
    "trusted": true
   },
   "outputs": [
    {
     "data": {
      "text/plain": [
       "13"
      ]
     },
     "execution_count": 7,
     "metadata": {},
     "output_type": "execute_result"
    }
   ],
   "source": [
    "model_type = \"Regression\"\n",
    "#model_type = \"Classification\"\n",
    "target = 'Sales_Amount'\n",
    "predictors = [x for x in df.columns if x not in [target]]\n",
    "len(predictors)"
   ]
  },
  {
   "cell_type": "code",
   "execution_count": 8,
   "metadata": {
    "execution": {
     "iopub.execute_input": "2025-02-24T13:38:34.520465Z",
     "iopub.status.busy": "2025-02-24T13:38:34.520113Z",
     "iopub.status.idle": "2025-02-24T13:38:35.229642Z",
     "shell.execute_reply": "2025-02-24T13:38:35.228679Z",
     "shell.execute_reply.started": "2025-02-24T13:38:34.520440Z"
    },
    "trusted": true
   },
   "outputs": [],
   "source": [
    "from sklearn.model_selection import train_test_split\n",
    "X = df[predictors] \n",
    "y = df[target] \n",
    "X_train, X_test, y_train, y_test = train_test_split(X, y, test_size=0.2, random_state=42)"
   ]
  },
  {
   "cell_type": "code",
   "execution_count": 9,
   "metadata": {
    "execution": {
     "iopub.execute_input": "2025-02-24T13:39:53.410046Z",
     "iopub.status.busy": "2025-02-24T13:39:53.409643Z",
     "iopub.status.idle": "2025-02-24T13:39:54.124367Z",
     "shell.execute_reply": "2025-02-24T13:39:54.123312Z",
     "shell.execute_reply.started": "2025-02-24T13:39:53.410012Z"
    },
    "trusted": true
   },
   "outputs": [
    {
     "name": "stdout",
     "output_type": "stream",
     "text": [
      "Imported featurewiz_polars 0.1.4. Use the following syntax:\n",
      " >> from featurewiz_polars import Featurewiz_MRMR, Featurewiz_MRMR_Model\n",
      " >> wiz = Featurewiz_MRMR(model_type='Classification')\n",
      " >> X_transformed, y_transformed = wiz.fit_transform(X_train, y_train)\n",
      " >> X_test_transformed = wiz.transform(X_test)\n",
      " >> print(wiz.selected_features)\n",
      "    \n"
     ]
    }
   ],
   "source": [
    "from featurewiz_polars import Featurewiz_MRMR, Featurewiz_MRMR_Model"
   ]
  },
  {
   "cell_type": "code",
   "execution_count": 10,
   "metadata": {
    "execution": {
     "iopub.execute_input": "2025-02-24T13:42:10.468173Z",
     "iopub.status.busy": "2025-02-24T13:42:10.467737Z",
     "iopub.status.idle": "2025-02-24T13:42:10.477193Z",
     "shell.execute_reply": "2025-02-24T13:42:10.475984Z",
     "shell.execute_reply.started": "2025-02-24T13:42:10.468142Z"
    },
    "trusted": true
   },
   "outputs": [
    {
     "data": {
      "text/html": [
       "<div><style>\n",
       ".dataframe > thead > tr,\n",
       ".dataframe > tbody > tr {\n",
       "  text-align: right;\n",
       "  white-space: pre-wrap;\n",
       "}\n",
       "</style>\n",
       "<small>shape: (5, 13)</small><table border=\"1\" class=\"dataframe\"><thead><tr><th>Product_ID</th><th>Sale_Date</th><th>Sales_Rep</th><th>Region</th><th>Quantity_Sold</th><th>Product_Category</th><th>Unit_Cost</th><th>Unit_Price</th><th>Customer_Type</th><th>Discount</th><th>Payment_Method</th><th>Sales_Channel</th><th>Region_and_Sales_Rep</th></tr><tr><td>i64</td><td>date</td><td>str</td><td>str</td><td>i64</td><td>str</td><td>f64</td><td>f64</td><td>str</td><td>f64</td><td>str</td><td>str</td><td>str</td></tr></thead><tbody><tr><td>1049</td><td>2023-05-17</td><td>&quot;Alice&quot;</td><td>&quot;West&quot;</td><td>1</td><td>&quot;Furniture&quot;</td><td>3290.89</td><td>3317.75</td><td>&quot;Returning&quot;</td><td>0.17</td><td>&quot;Bank Transfer&quot;</td><td>&quot;Online&quot;</td><td>&quot;West-Alice&quot;</td></tr><tr><td>1001</td><td>2023-04-27</td><td>&quot;Eve&quot;</td><td>&quot;East&quot;</td><td>25</td><td>&quot;Electronics&quot;</td><td>1330.62</td><td>1543.69</td><td>&quot;New&quot;</td><td>0.27</td><td>&quot;Credit Card&quot;</td><td>&quot;Online&quot;</td><td>&quot;East-Eve&quot;</td></tr><tr><td>1067</td><td>2023-07-05</td><td>&quot;Alice&quot;</td><td>&quot;West&quot;</td><td>27</td><td>&quot;Furniture&quot;</td><td>3624.97</td><td>3836.52</td><td>&quot;New&quot;</td><td>0.08</td><td>&quot;Cash&quot;</td><td>&quot;Online&quot;</td><td>&quot;West-Alice&quot;</td></tr><tr><td>1065</td><td>2023-12-30</td><td>&quot;David&quot;</td><td>&quot;South&quot;</td><td>9</td><td>&quot;Clothing&quot;</td><td>335.82</td><td>498.31</td><td>&quot;New&quot;</td><td>0.26</td><td>&quot;Cash&quot;</td><td>&quot;Retail&quot;</td><td>&quot;South-David&quot;</td></tr><tr><td>1092</td><td>2023-05-25</td><td>&quot;Bob&quot;</td><td>&quot;East&quot;</td><td>20</td><td>&quot;Food&quot;</td><td>668.11</td><td>803.49</td><td>&quot;New&quot;</td><td>0.21</td><td>&quot;Bank Transfer&quot;</td><td>&quot;Online&quot;</td><td>&quot;East-Bob&quot;</td></tr></tbody></table></div>"
      ],
      "text/plain": [
       "shape: (5, 13)\n",
       "┌────────────┬────────────┬───────────┬────────┬───┬──────────┬────────────┬───────────┬───────────┐\n",
       "│ Product_ID ┆ Sale_Date  ┆ Sales_Rep ┆ Region ┆ … ┆ Discount ┆ Payment_Me ┆ Sales_Cha ┆ Region_an │\n",
       "│ ---        ┆ ---        ┆ ---       ┆ ---    ┆   ┆ ---      ┆ thod       ┆ nnel      ┆ d_Sales_R │\n",
       "│ i64        ┆ date       ┆ str       ┆ str    ┆   ┆ f64      ┆ ---        ┆ ---       ┆ ep        │\n",
       "│            ┆            ┆           ┆        ┆   ┆          ┆ str        ┆ str       ┆ ---       │\n",
       "│            ┆            ┆           ┆        ┆   ┆          ┆            ┆           ┆ str       │\n",
       "╞════════════╪════════════╪═══════════╪════════╪═══╪══════════╪════════════╪═══════════╪═══════════╡\n",
       "│ 1049       ┆ 2023-05-17 ┆ Alice     ┆ West   ┆ … ┆ 0.17     ┆ Bank       ┆ Online    ┆ West-Alic │\n",
       "│            ┆            ┆           ┆        ┆   ┆          ┆ Transfer   ┆           ┆ e         │\n",
       "│ 1001       ┆ 2023-04-27 ┆ Eve       ┆ East   ┆ … ┆ 0.27     ┆ Credit     ┆ Online    ┆ East-Eve  │\n",
       "│            ┆            ┆           ┆        ┆   ┆          ┆ Card       ┆           ┆           │\n",
       "│ 1067       ┆ 2023-07-05 ┆ Alice     ┆ West   ┆ … ┆ 0.08     ┆ Cash       ┆ Online    ┆ West-Alic │\n",
       "│            ┆            ┆           ┆        ┆   ┆          ┆            ┆           ┆ e         │\n",
       "│ 1065       ┆ 2023-12-30 ┆ David     ┆ South  ┆ … ┆ 0.26     ┆ Cash       ┆ Retail    ┆ South-Dav │\n",
       "│            ┆            ┆           ┆        ┆   ┆          ┆            ┆           ┆ id        │\n",
       "│ 1092       ┆ 2023-05-25 ┆ Bob       ┆ East   ┆ … ┆ 0.21     ┆ Bank       ┆ Online    ┆ East-Bob  │\n",
       "│            ┆            ┆           ┆        ┆   ┆          ┆ Transfer   ┆           ┆           │\n",
       "└────────────┴────────────┴───────────┴────────┴───┴──────────┴────────────┴───────────┴───────────┘"
      ]
     },
     "execution_count": 10,
     "metadata": {},
     "output_type": "execute_result"
    }
   ],
   "source": [
    "X_train.head()"
   ]
  },
  {
   "cell_type": "code",
   "execution_count": 11,
   "metadata": {
    "execution": {
     "iopub.execute_input": "2025-02-24T13:40:04.146211Z",
     "iopub.status.busy": "2025-02-24T13:40:04.145816Z",
     "iopub.status.idle": "2025-02-24T13:40:04.151100Z",
     "shell.execute_reply": "2025-02-24T13:40:04.149951Z",
     "shell.execute_reply.started": "2025-02-24T13:40:04.146185Z"
    },
    "trusted": true
   },
   "outputs": [],
   "source": [
    "mrmr = Featurewiz_MRMR_Model(model_type=model_type, \n",
    "                corr_threshold=0.7, encoding_type='ordinal', classic=True, \n",
    "                verbose=0)"
   ]
  },
  {
   "cell_type": "code",
   "execution_count": 12,
   "metadata": {
    "execution": {
     "iopub.execute_input": "2025-02-24T13:40:19.553992Z",
     "iopub.status.busy": "2025-02-24T13:40:19.553560Z",
     "iopub.status.idle": "2025-02-24T13:40:19.685664Z",
     "shell.execute_reply": "2025-02-24T13:40:19.683895Z",
     "shell.execute_reply.started": "2025-02-24T13:40:19.553956Z"
    },
    "trusted": true
   },
   "outputs": [
    {
     "name": "stdout",
     "output_type": "stream",
     "text": [
      "\n",
      "Featurewiz Polars started. Model type: Regression\n",
      "SULOV selected Features (16): ['Customer_Type', 'Discount', 'Payment_Method', 'Product_Category', 'Product_ID', 'Quantity_Sold', 'Region', 'Region_and_Sales_Rep', 'Sales_Channel', 'Sales_Rep', 'Unit_Price', 'dt_Sale_Date_day', 'dt_Sale_Date_month', 'dt_Sale_Date_ordinal_day', 'dt_Sale_Date_weekday', 'dt_Sale_Date_year']\n",
      "\n",
      "Recursive XGBoost selected Features (14): ['Customer_Type', 'Discount', 'Product_Category', 'Product_ID', 'Quantity_Sold', 'Region', 'Region_and_Sales_Rep', 'Sales_Channel', 'Sales_Rep', 'Unit_Price', 'dt_Sale_Date_day', 'dt_Sale_Date_month', 'dt_Sale_Date_ordinal_day', 'dt_Sale_Date_weekday']\n",
      "\n",
      "Featurewiz Polars MRMR completed. Time taken  = 1.1 seconds\n"
     ]
    }
   ],
   "source": [
    "X_transformed, y_transformed = mrmr.fit_transform(X_train, y_train)"
   ]
  },
  {
   "cell_type": "code",
   "execution_count": 13,
   "metadata": {},
   "outputs": [
    {
     "data": {
      "text/html": [
       "<div><style>\n",
       ".dataframe > thead > tr,\n",
       ".dataframe > tbody > tr {\n",
       "  text-align: right;\n",
       "  white-space: pre-wrap;\n",
       "}\n",
       "</style>\n",
       "<small>shape: (2, 14)</small><table border=\"1\" class=\"dataframe\"><thead><tr><th>Customer_Type</th><th>Discount</th><th>Product_Category</th><th>Product_ID</th><th>Quantity_Sold</th><th>Region</th><th>Region_and_Sales_Rep</th><th>Sales_Channel</th><th>Sales_Rep</th><th>Unit_Price</th><th>dt_Sale_Date_day</th><th>dt_Sale_Date_month</th><th>dt_Sale_Date_ordinal_day</th><th>dt_Sale_Date_weekday</th></tr><tr><td>f64</td><td>f64</td><td>f64</td><td>f64</td><td>f64</td><td>f64</td><td>f64</td><td>f64</td><td>f64</td><td>f64</td><td>i8</td><td>i8</td><td>i16</td><td>i8</td></tr></thead><tbody><tr><td>0.0</td><td>0.17</td><td>2.0</td><td>1049.0</td><td>1.0</td><td>0.0</td><td>16.0</td><td>0.0</td><td>3.0</td><td>3317.75</td><td>17</td><td>5</td><td>137</td><td>3</td></tr><tr><td>1.0</td><td>0.27</td><td>0.0</td><td>1001.0</td><td>25.0</td><td>1.0</td><td>5.0</td><td>0.0</td><td>0.0</td><td>1543.69</td><td>27</td><td>4</td><td>117</td><td>4</td></tr></tbody></table></div>"
      ],
      "text/plain": [
       "shape: (2, 14)\n",
       "┌───────────┬──────────┬───────────┬───────────┬───┬───────────┬───────────┬───────────┬───────────┐\n",
       "│ Customer_ ┆ Discount ┆ Product_C ┆ Product_I ┆ … ┆ dt_Sale_D ┆ dt_Sale_D ┆ dt_Sale_D ┆ dt_Sale_D │\n",
       "│ Type      ┆ ---      ┆ ategory   ┆ D         ┆   ┆ ate_day   ┆ ate_month ┆ ate_ordin ┆ ate_weekd │\n",
       "│ ---       ┆ f64      ┆ ---       ┆ ---       ┆   ┆ ---       ┆ ---       ┆ al_day    ┆ ay        │\n",
       "│ f64       ┆          ┆ f64       ┆ f64       ┆   ┆ i8        ┆ i8        ┆ ---       ┆ ---       │\n",
       "│           ┆          ┆           ┆           ┆   ┆           ┆           ┆ i16       ┆ i8        │\n",
       "╞═══════════╪══════════╪═══════════╪═══════════╪═══╪═══════════╪═══════════╪═══════════╪═══════════╡\n",
       "│ 0.0       ┆ 0.17     ┆ 2.0       ┆ 1049.0    ┆ … ┆ 17        ┆ 5         ┆ 137       ┆ 3         │\n",
       "│ 1.0       ┆ 0.27     ┆ 0.0       ┆ 1001.0    ┆ … ┆ 27        ┆ 4         ┆ 117       ┆ 4         │\n",
       "└───────────┴──────────┴───────────┴───────────┴───┴───────────┴───────────┴───────────┴───────────┘"
      ]
     },
     "execution_count": 13,
     "metadata": {},
     "output_type": "execute_result"
    }
   ],
   "source": [
    "X_transformed.head(2)"
   ]
  },
  {
   "cell_type": "code",
   "execution_count": 14,
   "metadata": {},
   "outputs": [
    {
     "data": {
      "text/plain": [
       "array([4968.8592, 4082.9827, 4972.2476, 5072.8117, 4971.5689, 5814.6872,\n",
       "       4718.4535, 4900.676 , 3211.8054, 5319.3059, 3205.5462, 5162.002 ,\n",
       "       5098.759 , 4919.845 , 3995.1779, 5770.77  , 4266.1616, 4615.4209,\n",
       "       4610.7736, 4946.4144, 5861.0327, 6358.8625, 5471.3914, 5129.7874,\n",
       "       5730.9359, 5781.8015, 5094.1576, 5959.3169, 6181.9805, 5506.3436,\n",
       "       4917.5051, 5839.3612, 4374.9803, 5846.2556, 5119.1646, 5003.4963,\n",
       "       4312.9578, 5507.0166, 5204.0287, 4775.8905, 5154.449 , 5014.7301,\n",
       "       3879.2998, 3330.2583, 4473.8375, 4762.8899, 4830.852 , 5112.6958,\n",
       "       4330.7758, 5414.1007, 5651.5575, 5661.9523, 4821.9487, 5160.596 ,\n",
       "       5087.2408, 4840.5201, 3592.9626, 3837.6766, 5264.9782, 4890.9861,\n",
       "       4610.9406, 4585.8409, 5378.7363, 4489.7232, 5274.8202, 5242.037 ,\n",
       "       5557.14  , 5935.5852, 3737.7491, 2666.7718, 5246.145 , 4330.7093,\n",
       "       5265.9737, 4618.8315, 4625.2468, 5436.5637, 5529.2489, 5487.3588,\n",
       "       5209.9743, 4854.7761, 4438.7673, 5577.4704, 5200.8685, 4396.7955,\n",
       "       4418.9596, 6134.9657, 4497.4208, 4539.8242, 5571.933 , 5268.4744,\n",
       "       4919.7496, 5215.2461, 5929.5708, 5750.5723, 5216.5317, 5945.2104,\n",
       "       5315.4502, 6278.6301, 5294.6135, 4092.2783, 4917.3402, 4005.641 ,\n",
       "       4853.1075, 4903.1463, 4404.491 , 4646.5377, 5826.9137, 5464.9484,\n",
       "       5724.2238, 5050.9515, 4825.8854, 3868.3135, 4910.6081, 5189.838 ,\n",
       "       5749.1185, 4792.7787, 4281.9883, 5927.6066, 4845.8489, 3988.9666,\n",
       "       5084.7902, 5054.2219, 4799.5172, 5237.1976, 4576.9349, 4163.1534,\n",
       "       5390.2768, 5716.3219, 5084.3187, 4341.3927, 4299.424 , 4785.3957,\n",
       "       6149.3072, 4247.0218, 4582.7529, 5493.5035, 4128.2401, 4721.6628,\n",
       "       3781.41  , 4672.9062, 6011.4837, 4411.8283, 4811.6527, 5701.3154,\n",
       "       5222.8642, 4962.7329, 4592.8975, 5336.3313, 4877.0101, 4338.5128,\n",
       "       5139.7121, 5157.8242, 5927.3794, 6144.7563, 6191.1906, 5214.1015,\n",
       "       4394.8838, 4166.8307, 4950.1262, 4579.8131, 4290.8062, 5530.259 ,\n",
       "       5231.8911, 5184.7875, 5080.7977, 6039.9348, 5498.3528, 5551.8222,\n",
       "       4825.6124, 5719.2396, 4459.2466, 5178.6696, 5355.8983, 5976.0373,\n",
       "       5139.447 , 5326.788 , 6031.5962, 4425.2049, 6742.1978, 6007.6516,\n",
       "       4223.0498, 5788.864 , 4029.6891, 5471.8062, 4740.8096, 5438.084 ,\n",
       "       5085.3009, 5452.6376, 5639.8556, 5367.9455, 4276.2586, 4564.654 ,\n",
       "       6476.9915, 5708.6625, 4612.2211, 5107.6244, 4305.1283, 5755.4725,\n",
       "       3916.2842, 5535.0663])"
      ]
     },
     "execution_count": 14,
     "metadata": {},
     "output_type": "execute_result"
    }
   ],
   "source": [
    "y_pred = mrmr.predict(X_test)\n",
    "y_pred"
   ]
  },
  {
   "cell_type": "code",
   "execution_count": 15,
   "metadata": {},
   "outputs": [
    {
     "name": "stdout",
     "output_type": "stream",
     "text": [
      "[7667.96  433.4  5617.64  780.27  848.28 7542.3  5403.   4494.8  9736.49\n",
      " 7952.11 7001.64 4634.16 8837.34 6760.37 3349.51  919.09 9850.1  2855.85\n",
      " 2490.82 7297.86 9417.1  2363.9   776.7   797.87  485.41 2150.05 8130.13\n",
      " 3577.07 5677.74 4947.28 4025.88 9610.21 6321.42 8963.93 4104.82 3635.5\n",
      " 8915.05 6116.75 3093.95 1290.05  349.41 1493.95 8090.   2282.99 5187.16\n",
      " 3772.32 5426.42 8718.22 4140.7  5873.59  119.72 9733.46 3111.57 8919.47\n",
      " 6483.84  675.11 7948.31 8518.45 2896.71 6710.83 7172.8  9762.54 7914.\n",
      " 2286.44 1242.41 6575.91 4695.96 8188.04 9744.52 3147.18 9183.11 3774.02\n",
      " 9602.64  485.9   519.98 7828.25 8057.76 1331.25 2273.58 9217.85 8049.72\n",
      " 3780.22 8186.12  113.4  7041.58 5105.78 1629.47 2792.27  765.83 3905.11\n",
      " 6359.59  182.37 4155.74 5842.88 7103.23 5917.1  1387.8  7873.38 7754.1\n",
      " 7026.43 2714.21 2971.45 8611.97 4224.   8564.24 8785.77 5081.01 8274.54\n",
      " 7739.11 4638.47 1937.9   289.53 4637.4  6033.09 9582.12 9452.89 6658.1\n",
      " 2706.15 2962.96 6055.38  719.39 3197.78 7982.79 2338.64  783.18 8601.77\n",
      " 5240.32 4050.45 8540.22 7179.49 5051.12 8643.67 7320.51 4733.88 6675.77\n",
      " 1342.95 2494.74 9509.55 7160.75  333.59 5991.8  1600.79 1990.17 7567.06\n",
      " 2184.02 8241.57 6939.75 6966.82 1780.31 9476.2   763.04 9775.35 2571.72\n",
      " 9472.66 1347.42 6171.59 7316.91 4791.82 2729.27 8003.1  5454.96 7859.01\n",
      " 6518.35  833.64 9755.9  6650.67 1114.91 9091.46 3518.89 8630.74 6772.8\n",
      " 6761.43 8912.4  9215.32 5488.11 5533.7  7678.91 9733.47  628.15 7841.4\n",
      " 9215.59  152.6   660.2  1688.58 8821.63 8552.47 2579.63 3137.09 2044.55\n",
      " 8271.62 6482.98 9613.11 3279.51 7896.74 8681.03 9688.52 9705.55 5108.98\n",
      " 2122.73 3098.87]\n"
     ]
    }
   ],
   "source": [
    "if model_type == 'Classification':\n",
    "    y_test = mrmr.y_encoder.transform(y_test)\n",
    "    print(y_test.to_numpy().ravel())\n",
    "else:\n",
    "    print(y_test.to_numpy().ravel())"
   ]
  },
  {
   "cell_type": "code",
   "execution_count": 16,
   "metadata": {},
   "outputs": [
    {
     "name": "stdout",
     "output_type": "stream",
     "text": [
      "    RMSE = 3153.409\n",
      "    Norm RMSE = 104%\n",
      "    MAE = 2763.955\n",
      "    WAPE = 52%, Bias = 5.6%\n",
      "    MAPE = 20143%\n",
      "\tHint: high MAPE: try np.log(y) instead of (y).\n",
      "    R-Squared = -8%\n"
     ]
    }
   ],
   "source": [
    "from featurewiz_polars import print_regression_metrics, print_classification_metrics\n",
    "if model_type == 'Classification':\n",
    "    print_classification_metrics(y_test.to_numpy().ravel(), y_pred, verbose=1)\n",
    "else:\n",
    "    print_regression_metrics(y_test.to_numpy().ravel(), y_pred, verbose=1)"
   ]
  },
  {
   "cell_type": "code",
   "execution_count": null,
   "metadata": {},
   "outputs": [],
   "source": []
  },
  {
   "cell_type": "code",
   "execution_count": null,
   "metadata": {},
   "outputs": [],
   "source": []
  }
 ],
 "metadata": {
  "kaggle": {
   "accelerator": "none",
   "dataSources": [
    {
     "datasetId": 6688404,
     "sourceId": 10779441,
     "sourceType": "datasetVersion"
    }
   ],
   "dockerImageVersionId": 30839,
   "isGpuEnabled": false,
   "isInternetEnabled": true,
   "language": "python",
   "sourceType": "notebook"
  },
  "kernelspec": {
   "display_name": "base",
   "language": "python",
   "name": "python3"
  },
  "language_info": {
   "codemirror_mode": {
    "name": "ipython",
    "version": 3
   },
   "file_extension": ".py",
   "mimetype": "text/x-python",
   "name": "python",
   "nbconvert_exporter": "python",
   "pygments_lexer": "ipython3",
   "version": "3.12.3"
  }
 },
 "nbformat": 4,
 "nbformat_minor": 4
}
