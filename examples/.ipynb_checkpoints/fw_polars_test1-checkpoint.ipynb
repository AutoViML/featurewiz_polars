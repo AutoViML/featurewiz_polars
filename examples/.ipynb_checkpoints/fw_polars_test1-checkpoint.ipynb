{
 "cells": [
  {
   "cell_type": "code",
   "execution_count": 7,
   "id": "63e5f4d4",
   "metadata": {},
   "outputs": [],
   "source": [
    "from sklearn.base import BaseEstimator, TransformerMixin\n",
    "from sklearn.utils.validation import check_is_fitted\n",
    "from featurewiz_polars import Sulov_MRMR, Polars_DateTimeTransformer, Polars_CategoricalEncoder\n",
    "from featurewiz_polars import Polars_MissingTransformer, YTransformer, Polars_ColumnEncoder\n",
    "import polars as pl\n",
    "import numpy as np\n",
    "import pandas as pd\n",
    "from sklearn.datasets import make_classification\n",
    "from sklearn.model_selection import train_test_split\n",
    "import time\n",
    "from sklearn.pipeline import Pipeline\n",
    "import pdb\n",
    "from sklearn.ensemble import RandomForestClassifier, RandomForestRegressor"
   ]
  },
  {
   "cell_type": "code",
   "execution_count": 5,
   "id": "a0815591",
   "metadata": {},
   "outputs": [],
   "source": [
    "#mrmr = Sulov_MRMR(corr_threshold=0.7, verbose=0)\n",
    "X_pipeline = Pipeline([\n",
    "    ('datetime_transformer', Polars_DateTimeTransformer(datetime_features=[])), # Specify your datetime columns\n",
    "    ('cat_transformer', Polars_CategoricalEncoder(encoding_type='ordinal', categorical_features='auto')),\n",
    "    ('nan_transformer', Polars_MissingTransformer(strategy=\"median\")),\n",
    "    ('ytransformer', YTransformer()),\n",
    "    ])\n",
    "Y_pipeline = Pipeline([\n",
    "    ('featurewiz', Sulov_MRMR(corr_threshold=0.7, verbose=0)),\n",
    "    ])\n",
    "##    Usage missing value fillers\n",
    "feature_selection = Pipeline([\n",
    "        ('X_pipeline', X_pipeline),\n",
    "        ('Y_pipeline', Y_pipeline)\n",
    "    ])\n",
    "model_type = 'classification'\n",
    "if model_type == 'Regression':\n",
    "    model = RandomForestRegressor(n_estimators=100, random_state=99)\n",
    "else:\n",
    "    model = RandomForestClassifier(n_estimators=100, random_state=99)"
   ]
  },
  {
   "cell_type": "code",
   "execution_count": 8,
   "id": "60434ad7",
   "metadata": {},
   "outputs": [],
   "source": [
    "class Classx( TransformerMixin): # Class name \n",
    "    def __init__(self, model=model, \n",
    "            model_type=model_type, encoding_type='target', \n",
    "            imputation_strategy='mean', corr_threshold = 0.7,\n",
    "            verbose = 0):\n",
    "        self.model = model\n",
    "        self.model_type = model_type.lower()\n",
    "        self.encoding_type = encoding_type.lower()\n",
    "        self.imputation_strategy = imputation_strategy.lower()\n",
    "        self.corr_threshold = corr_threshold\n",
    "        self.feature_selection = feature_selection\n",
    "        self.y_encoder = Polars_ColumnEncoder()\n",
    "\n",
    "    def fit(self, X, y):\n",
    "        self.feature_selection.fit(X,y)\n",
    "        self.y_encoder.fit(y)\n",
    "        return self\n",
    "\n",
    "    def transform(self, X, y=None):\n",
    "        if y is None:\n",
    "            return self.feature_selection.transform(X)\n",
    "        else:\n",
    "            Xt = self.feature_selection.transform(X)\n",
    "            yt = self.y_encoder.transform(y)\n",
    "            return Xt, yt\n",
    "\n",
    "    def fit_transform(self, X, y):\n",
    "        self.fit(X, y)\n",
    "        Xt = self.transform(X)\n",
    "        yt = self.y_encoder.transform(y)\n",
    "        return Xt, yt\n",
    "testp = Classx()"
   ]
  },
  {
   "cell_type": "code",
   "execution_count": 10,
   "id": "19b65ea9",
   "metadata": {},
   "outputs": [],
   "source": [
    "datapath = \"../../data_sets/\"\n",
    "filename = \"heart.csv\""
   ]
  },
  {
   "cell_type": "code",
   "execution_count": 11,
   "id": "682085c8",
   "metadata": {},
   "outputs": [
    {
     "name": "stdout",
     "output_type": "stream",
     "text": [
      "Loaded data... (303, 14)\n",
      "Data dimensions (rows x cols) = 3939 dims\n"
     ]
    },
    {
     "data": {
      "text/plain": [
       "Int64"
      ]
     },
     "execution_count": 11,
     "metadata": {},
     "output_type": "execute_result"
    }
   ],
   "source": [
    "df = pl.read_csv(datapath+filename, null_values='NULL', try_parse_dates=True)#.sample(1000)\n",
    "print('Loaded data...', df.shape)\n",
    "target = 'target' # Replace with your target column name\n",
    "model_type = 'Classification'\n",
    "if target not in df.columns:\n",
    "    print(f\"Error: Target column '{target}' not found in the CSV file.\")\n",
    "    exit()\n",
    "predictors = [x for x in df.columns if x!=target]\n",
    "X = df[predictors]\n",
    "y = df[target]\n",
    "print('Data dimensions (rows x cols) = %d dims' %(int(X.shape[0]*X.shape[1])))\n",
    "X_train, X_test, y_train, y_test = train_test_split(X, y, test_size=0.2, random_state=42)\n",
    "y_train.dtype"
   ]
  },
  {
   "cell_type": "code",
   "execution_count": 12,
   "id": "403970ae",
   "metadata": {},
   "outputs": [
    {
     "name": "stdout",
     "output_type": "stream",
     "text": [
      "Model type: Classification\n",
      "SULOV selected Features (13): ['thal', 'cp', 'exang', 'oldpeak', 'ca', 'thalach', 'chol', 'slope', 'trestbps', 'restecg', 'age', 'sex', 'fbs']\n",
      "\n",
      "Recursive XGBoost selected Features (5): ['age', 'ca', 'cp', 'sex', 'thal']\n",
      "<class 'polars.dataframe.frame.DataFrame'>\n",
      "<class 'polars.series.series.Series'>\n"
     ]
    }
   ],
   "source": [
    "testp.fit(X, y)\n",
    "Xt, yt = testp.transform(X_train,y_train)\n",
    "print(type(Xt))\n",
    "print(type(yt))"
   ]
  },
  {
   "cell_type": "code",
   "execution_count": 13,
   "id": "256dca02",
   "metadata": {},
   "outputs": [
    {
     "data": {
      "text/html": [
       "<style>#sk-container-id-1 {color: black;background-color: white;}#sk-container-id-1 pre{padding: 0;}#sk-container-id-1 div.sk-toggleable {background-color: white;}#sk-container-id-1 label.sk-toggleable__label {cursor: pointer;display: block;width: 100%;margin-bottom: 0;padding: 0.3em;box-sizing: border-box;text-align: center;}#sk-container-id-1 label.sk-toggleable__label-arrow:before {content: \"▸\";float: left;margin-right: 0.25em;color: #696969;}#sk-container-id-1 label.sk-toggleable__label-arrow:hover:before {color: black;}#sk-container-id-1 div.sk-estimator:hover label.sk-toggleable__label-arrow:before {color: black;}#sk-container-id-1 div.sk-toggleable__content {max-height: 0;max-width: 0;overflow: hidden;text-align: left;background-color: #f0f8ff;}#sk-container-id-1 div.sk-toggleable__content pre {margin: 0.2em;color: black;border-radius: 0.25em;background-color: #f0f8ff;}#sk-container-id-1 input.sk-toggleable__control:checked~div.sk-toggleable__content {max-height: 200px;max-width: 100%;overflow: auto;}#sk-container-id-1 input.sk-toggleable__control:checked~label.sk-toggleable__label-arrow:before {content: \"▾\";}#sk-container-id-1 div.sk-estimator input.sk-toggleable__control:checked~label.sk-toggleable__label {background-color: #d4ebff;}#sk-container-id-1 div.sk-label input.sk-toggleable__control:checked~label.sk-toggleable__label {background-color: #d4ebff;}#sk-container-id-1 input.sk-hidden--visually {border: 0;clip: rect(1px 1px 1px 1px);clip: rect(1px, 1px, 1px, 1px);height: 1px;margin: -1px;overflow: hidden;padding: 0;position: absolute;width: 1px;}#sk-container-id-1 div.sk-estimator {font-family: monospace;background-color: #f0f8ff;border: 1px dotted black;border-radius: 0.25em;box-sizing: border-box;margin-bottom: 0.5em;}#sk-container-id-1 div.sk-estimator:hover {background-color: #d4ebff;}#sk-container-id-1 div.sk-parallel-item::after {content: \"\";width: 100%;border-bottom: 1px solid gray;flex-grow: 1;}#sk-container-id-1 div.sk-label:hover label.sk-toggleable__label {background-color: #d4ebff;}#sk-container-id-1 div.sk-serial::before {content: \"\";position: absolute;border-left: 1px solid gray;box-sizing: border-box;top: 0;bottom: 0;left: 50%;z-index: 0;}#sk-container-id-1 div.sk-serial {display: flex;flex-direction: column;align-items: center;background-color: white;padding-right: 0.2em;padding-left: 0.2em;position: relative;}#sk-container-id-1 div.sk-item {position: relative;z-index: 1;}#sk-container-id-1 div.sk-parallel {display: flex;align-items: stretch;justify-content: center;background-color: white;position: relative;}#sk-container-id-1 div.sk-item::before, #sk-container-id-1 div.sk-parallel-item::before {content: \"\";position: absolute;border-left: 1px solid gray;box-sizing: border-box;top: 0;bottom: 0;left: 50%;z-index: -1;}#sk-container-id-1 div.sk-parallel-item {display: flex;flex-direction: column;z-index: 1;position: relative;background-color: white;}#sk-container-id-1 div.sk-parallel-item:first-child::after {align-self: flex-end;width: 50%;}#sk-container-id-1 div.sk-parallel-item:last-child::after {align-self: flex-start;width: 50%;}#sk-container-id-1 div.sk-parallel-item:only-child::after {width: 0;}#sk-container-id-1 div.sk-dashed-wrapped {border: 1px dashed gray;margin: 0 0.4em 0.5em 0.4em;box-sizing: border-box;padding-bottom: 0.4em;background-color: white;}#sk-container-id-1 div.sk-label label {font-family: monospace;font-weight: bold;display: inline-block;line-height: 1.2em;}#sk-container-id-1 div.sk-label-container {text-align: center;}#sk-container-id-1 div.sk-container {/* jupyter's `normalize.less` sets `[hidden] { display: none; }` but bootstrap.min.css set `[hidden] { display: none !important; }` so we also need the `!important` here to be able to override the default hidden behavior on the sphinx rendered scikit-learn.org. See: https://github.com/scikit-learn/scikit-learn/issues/21755 */display: inline-block !important;position: relative;}#sk-container-id-1 div.sk-text-repr-fallback {display: none;}</style><div id=\"sk-container-id-1\" class=\"sk-top-container\"><div class=\"sk-text-repr-fallback\"><pre>RandomForestClassifier(random_state=99)</pre><b>In a Jupyter environment, please rerun this cell to show the HTML representation or trust the notebook. <br />On GitHub, the HTML representation is unable to render, please try loading this page with nbviewer.org.</b></div><div class=\"sk-container\" hidden><div class=\"sk-item\"><div class=\"sk-estimator sk-toggleable\"><input class=\"sk-toggleable__control sk-hidden--visually\" id=\"sk-estimator-id-1\" type=\"checkbox\" checked><label for=\"sk-estimator-id-1\" class=\"sk-toggleable__label sk-toggleable__label-arrow\">RandomForestClassifier</label><div class=\"sk-toggleable__content\"><pre>RandomForestClassifier(random_state=99)</pre></div></div></div></div></div>"
      ],
      "text/plain": [
       "RandomForestClassifier(random_state=99)"
      ]
     },
     "execution_count": 13,
     "metadata": {},
     "output_type": "execute_result"
    }
   ],
   "source": [
    "model.fit(Xt, yt)"
   ]
  },
  {
   "cell_type": "code",
   "execution_count": 14,
   "id": "e404787b",
   "metadata": {},
   "outputs": [
    {
     "data": {
      "text/plain": [
       "array([0.18329003, 0.20593133])"
      ]
     },
     "execution_count": 14,
     "metadata": {},
     "output_type": "execute_result"
    }
   ],
   "source": [
    "base_importances = model.feature_importances_\n",
    "tier_thresholds = np.percentile(base_importances, [33, 66])\n",
    "tier_thresholds"
   ]
  },
  {
   "cell_type": "code",
   "execution_count": 15,
   "id": "78f77ba9",
   "metadata": {},
   "outputs": [
    {
     "data": {
      "text/plain": [
       "['age', 'ca']"
      ]
     },
     "execution_count": 15,
     "metadata": {},
     "output_type": "execute_result"
    }
   ],
   "source": [
    "# Stratify features into importance tiers\n",
    "all_features = sorted(X.columns)\n",
    "tiers = {\n",
    "    'high': [f for f, imp in zip(all_features, base_importances) \n",
    "            if imp >= tier_thresholds[1]],\n",
    "    'medium': [f for f, imp in zip(all_features, base_importances) \n",
    "            if tier_thresholds[0] <= imp < tier_thresholds[1]],\n",
    "    'low': [f for f, imp in zip(all_features, base_importances) \n",
    "            if imp < tier_thresholds[0]]\n",
    "}\n",
    "tiers['high']"
   ]
  },
  {
   "cell_type": "code",
   "execution_count": 17,
   "id": "e2d02aa3",
   "metadata": {},
   "outputs": [
    {
     "data": {
      "text/plain": [
       "{'age': 0.34969239500850263,\n",
       " 'ca': 0.21793527042737812,\n",
       " 'chol': 0.18459100264434322,\n",
       " 'cp': 0.06510352448220108,\n",
       " 'exang': 0.18267780743757508}"
      ]
     },
     "execution_count": 17,
     "metadata": {},
     "output_type": "execute_result"
    }
   ],
   "source": [
    "dict(zip(all_features, base_importances))"
   ]
  },
  {
   "cell_type": "code",
   "execution_count": null,
   "id": "3ef24f12",
   "metadata": {},
   "outputs": [],
   "source": []
  }
 ],
 "metadata": {
  "kernelspec": {
   "display_name": "Python 3 (ipykernel)",
   "language": "python",
   "name": "python3"
  },
  "language_info": {
   "codemirror_mode": {
    "name": "ipython",
    "version": 3
   },
   "file_extension": ".py",
   "mimetype": "text/x-python",
   "name": "python",
   "nbconvert_exporter": "python",
   "pygments_lexer": "ipython3",
   "version": "3.8.8"
  }
 },
 "nbformat": 4,
 "nbformat_minor": 5
}
